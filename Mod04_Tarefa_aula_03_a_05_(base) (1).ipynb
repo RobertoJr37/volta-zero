{
 "cells": [
  {
   "cell_type": "markdown",
   "metadata": {
    "id": "njUvbhQmC8-t"
   },
   "source": [
    "## Exercício 1: Vestibular\n",
    "\n",
    "Considere que a os dados gerados na célula abaixo contêm o número de acertos de 100 alunos em um vestibular para um curso de exatas, divididas pelos respectivos assuntos. Considere que cada assunto possui um número de questões conforme a tabela abaixo:\n",
    "\n",
    "| assunto | número de questões |\n",
    "|:---:|:---:|\n",
    "| Matemática | 24 |\n",
    "| Português | 18 |\n",
    "| Geografia | 8 |\n",
    "| Inglês | 8 |\n",
    "| História | 8 |\n",
    "| Física | 12 |\n",
    "| Química | 12 |\n",
    "\n",
    "Usando os comandos de operações com DataFrames que você aprendeu na Aula 03, calcule:\n",
    "\n",
    "1. (operações com escalar) Calcule o percentual de acerto dos alunos por assunto.  \n",
    "2. (operações entre *DataFrames) Calcule o total de acertos de cada aluno.  \n",
    "3. Calcule o porcentual geral de cada aluno.  \n",
    "4. Suponha que a nota de corte para a segunda fase seja 45. Quantos alunos tiveram nota maior que 45?  "
   ]
  },
  {
   "cell_type": "code",
   "execution_count": null,
   "metadata": {
    "id": "Ll6TadxCC8-y"
   },
   "outputs": [],
   "source": [
    "import pandas as pd\n",
    "import numpy as np\n",
    "\n",
    "np.random.seed(42)\n",
    "df_mat = pd.DataFrame(np.random.randint(24, size=(100, 1)), columns=['Qt_acertos'])\n",
    "\n",
    "df_por = pd.DataFrame(np.random.randint(18, size=(100, 1)), columns=['Qt_acertos'])\n",
    "\n",
    "df_geo = pd.DataFrame(np.random.randint(8, size=(100, 1)), columns=['Qt_acertos'])\n",
    "\n",
    "df_ing = pd.DataFrame(np.random.randint(8, size=(100, 1)), columns=['Qt_acertos'])\n",
    "\n",
    "df_his = pd.DataFrame(np.random.randint(8, size=(100, 1)), columns=['Qt_acertos'])\n",
    "\n",
    "df_fis = pd.DataFrame(np.random.randint(12, size=(100, 1)), columns=['Qt_acertos'])\n",
    "\n",
    "df_qui = pd.DataFrame(np.random.randint(12, size=(100, 1)), columns=['Qt_acertos'])"
   ]
  },
  {
   "cell_type": "code",
   "execution_count": null,
   "metadata": {
    "id": "JVmLXiC2C8-0"
   },
   "outputs": [],
   "source": [
    "# 1) Seu código aqui\n",
    "# Número de questões por assunto\n",
    "questoes = {\n",
    "    'Matemática': 24,\n",
    "    'Português': 18,\n",
    "    'Geografia': 8,\n",
    "    'Inglês': 8,\n",
    "    'História': 8,\n",
    "    'Física': 12,\n",
    "    'Química': 12\n",
    "}\n",
    "\n",
    "# Percentual de acertos por assunto\n",
    "df_mat['Pct_acertos'] = df_mat['Qt_acertos'] / questoes['Matemática'] * 100\n",
    "df_por['Pct_acertos'] = df_por['Qt_acertos'] / questoes['Português'] * 100\n",
    "df_geo['Pct_acertos'] = df_geo['Qt_acertos'] / questoes['Geografia'] * 100\n",
    "df_ing['Pct_acertos'] = df_ing['Qt_acertos'] / questoes['Inglês'] * 100\n",
    "df_his['Pct_acertos'] = df_his['Qt_acertos'] / questoes['História'] * 100\n",
    "df_fis['Pct_acertos'] = df_fis['Qt_acertos'] / questoes['Física'] * 100\n",
    "df_qui['Pct_acertos'] = df_qui['Qt_acertos'] / questoes['Química'] * 100"
   ]
  },
  {
   "cell_type": "code",
   "execution_count": null,
   "metadata": {
    "id": "JbTwCyNHC8-1"
   },
   "outputs": [],
   "source": [
    "# 2) Seu código aqui\n",
    "\n",
    "# Total de questões no exame\n",
    "total_questoes = sum(questoes.values())\n",
    "\n",
    "# Calcular o total de acertos de cada aluno\n",
    "total_acertos = (df_mat['Qt_acertos'] + df_por['Qt_acertos'] + df_geo['Qt_acertos'] +\n",
    "                 df_ing['Qt_acertos'] + df_his['Qt_acertos'] + df_fis['Qt_acertos'] + \n",
    "                 df_qui['Qt_acertos'])\n"
   ]
  },
  {
   "cell_type": "code",
   "execution_count": null,
   "metadata": {
    "id": "c2L8dJkVC8-3"
   },
   "outputs": [],
   "source": [
    "# 3) Seu código aqui\n",
    "# Calcular o percentual geral de cada aluno\n",
    "pct_geral = (total_acertos / total_questoes) * 100\n",
    "\n",
    "# Criar um DataFrame com total de acertos e percentual geral\n",
    "df_resultados = pd.DataFrame({\n",
    "    'Total_acertos': total_acertos,\n",
    "    'Pct_geral': pct_geral\n",
    "})\n"
   ]
  },
  {
   "cell_type": "code",
   "execution_count": null,
   "metadata": {
    "id": "PZTZ7DFzC8-3"
   },
   "outputs": [],
   "source": [
    "# 4) Seu código aqui\n",
    "# Verificar quantos alunos tiveram nota maior que 45\n",
    "alunos_acima_corte = df_resultados[df_resultados['Total_acertos'] > 45].shape[0]\n",
    "\n",
    "# Exibir os resultados\n",
    "print(df_resultados)\n",
    "print(f\"Número de alunos com nota maior que 45: {alunos_acima_corte}\")"
   ]
  },
  {
   "cell_type": "markdown",
   "metadata": {
    "id": "Hlfl75XXC8-4"
   },
   "source": [
    "## 2) Vestibular II\n",
    "\n",
    "Ainda sobre o mesmo banco de dados:\n",
    "\n",
    "1. Neste vestibular, quem 'zera' em matemática, física ou química está desqualificado. Monte um novo *DataFrame* com os alunos desqualificados por este critério.\n",
    "2. Quantos são esses alunos?\n",
    "3. Qual a média desses alunos em história e geografia?\n",
    "4. Monte um *DataFrame* com os alunos que passaram para a segunda fase. Repare que estes alunos não podem ter sido desqualificados."
   ]
  },
  {
   "cell_type": "code",
   "execution_count": null,
   "metadata": {
    "id": "hPaMGXvJC8-4"
   },
   "outputs": [],
   "source": [
    "# seu código aqui\n",
    "\n",
    "# Criar um DataFrame com total de acertos e percentual geral\n",
    "df_resultados = pd.DataFrame({\n",
    "    'Matemática': df_mat['Qt_acertos'],\n",
    "    'Física': df_fis['Qt_acertos'],\n",
    "    'Química': df_qui['Qt_acertos'],\n",
    "    'História': df_his['Qt_acertos'],\n",
    "    'Geografia': df_geo['Qt_acertos'],\n",
    "    'Total_acertos': total_acertos,\n",
    "    'Pct_geral': pct_geral\n",
    "})\n",
    "\n",
    "# 1. Criar um DataFrame com alunos desqualificados (zeraram em Matemática, Física ou Química)\n",
    "df_desqualificados = df_resultados[(df_resultados['Matemática'] == 0) |\n",
    "                                   (df_resultados['Física'] == 0) |\n",
    "                                   (df_resultados['Química'] == 0)]\n",
    "\n",
    "# 2. Quantos alunos foram desqualificados?\n",
    "num_desqualificados = df_desqualificados.shape[0]\n",
    "\n",
    "# 3. Calcular a média de História e Geografia dos alunos desqualificados\n",
    "media_hist_geo_desqualificados = df_desqualificados[['História', 'Geografia']].mean()\n",
    "\n",
    "# 4. Criar um DataFrame com os alunos que passaram para a segunda fase\n",
    "# Alunos que não estão desqualificados e têm nota maior que 45\n",
    "df_passaram_segunda_fase = df_resultados[(df_resultados['Matemática'] > 0) &\n",
    "                                         (df_resultados['Física'] > 0) &\n",
    "                                         (df_resultados['Química'] > 0) &\n",
    "                                         (df_resultados['Total_acertos'] > 45)]\n",
    "\n",
    "# Exibir os resultados\n",
    "print(f\"Total de alunos desqualificados: {num_desqualificados}\")\n",
    "print(f\"Média dos alunos desqualificados em História: {media_hist_geo_desqualificados['História']:.2f}\")\n",
    "print(f\"Média dos alunos desqualificados em Geografia: {media_hist_geo_desqualificados['Geografia']:.2f}\")\n",
    "print(f\"Total de alunos que passaram para a segunda fase: {df_passaram_segunda_fase.shape[0]}\")"
   ]
  },
  {
   "cell_type": "markdown",
   "metadata": {
    "id": "EGBUWpAHC8-5"
   },
   "source": [
    "## 3) Vacinações no Acre\n",
    "Vamos trabalhar agora com a base de vacinações no Acre. Para facilitar a sua vida, copiamos o link do arquivo na célula abaixo.\n",
    "\n",
    "1. Quantas vacinas estão registradas nessa base?  \n",
    "2. Quantos pacientes foram vacinados? (considere um paciente para cada valor único de ```paciente_id```)  \n",
    "3. Quantos pacientes únicos tomaram a primeira dose? OBS: Há um caractere especial neste campo. Receba os valores do campo com o método ```.unique()```.   \n",
    "4. Quantos pacientes com menos de 18 anos foram vacinados?  \n",
    "5. Quantos estabelecimentos aplicaram vacina no Acre?\n",
    "\n",
    "\n",
    "**OBS:** O portal do DATASUS pode apresentar instabilidades, retornando um erro na segunda célula abaixo. Por este motivo está disponível uma base estática, que se for baixada para o seu *working directory* pode ser lida com este comando: ```df = pd.read_csv('registros de vacinacao covid ACRE.csv', sep=';')```.\n",
    "\n",
    "**OBS2:** Para saber qual é o seu working directory, rode no jupyter: ```!pwd```."
   ]
  },
  {
   "cell_type": "code",
   "execution_count": null,
   "metadata": {
    "id": "ET4r139hC8-5"
   },
   "outputs": [],
   "source": [
    "arquivo = 'https://s3.sa-east-1.amazonaws.com/ckan.saude.gov.br/SIPNI/COVID/uf/uf%3DAC/part-00000-105cf5c5-0cd3-4017-b5f0-acb8e6421676.c000.csv'"
   ]
  },
  {
   "cell_type": "code",
   "execution_count": null,
   "metadata": {
    "id": "SC9YMWLSC8-6"
   },
   "outputs": [],
   "source": [
    "# 1) Sua solução aqui\n",
    "# Carregar o arquivo CSV\n",
    "df = pd.read_csv(arquivo, sep=';', decimal=',')\n",
    "\n",
    "# 1. Quantas vacinas estão registradas nessa base?\n",
    "num_vacinas = df.shape[0]\n",
    "num_vacinas\n"
   ]
  },
  {
   "cell_type": "code",
   "execution_count": null,
   "metadata": {
    "id": "PMztY1RlC8-7"
   },
   "outputs": [],
   "source": [
    "# 2. Quantos pacientes foram vacinados (considerando paciente_id únicos)?\n",
    "num_pacientes_unicos = df['paciente_id'].nunique()\n",
    "num_pacientes_unicos\n"
   ]
  },
  {
   "cell_type": "code",
   "execution_count": null,
   "metadata": {
    "id": "V_wr--3JC8-7"
   },
   "outputs": [],
   "source": [
    "# 3. Quantos pacientes únicos tomaram a primeira dose? (campo com caractere especial)\n",
    "primeira_dose = df[df['vacina_descricao_dose'].str.contains('1ª Dose')]['paciente_id'].nunique()\n",
    "primeira_dose"
   ]
  },
  {
   "cell_type": "code",
   "execution_count": null,
   "metadata": {
    "id": "SPHgIxtcC8-7"
   },
   "outputs": [],
   "source": [
    "# 3) solução alternativa\n",
    "import pandas as pd\n",
    "import unicodedata\n",
    "\n",
    "# Função para normalizar strings removendo acentos e caracteres especiais\n",
    "def remover_acentos(texto):\n",
    "    if isinstance(texto, str):\n",
    "        return unicodedata.normalize('NFKD', texto).encode('ASCII', 'ignore').decode('utf-8')\n",
    "    return texto\n",
    "\n",
    "# Aplicar a função ao campo 'vacina_descricao_dose'\n",
    "df['vacina_descricao_dose'] = df['vacina_descricao_dose'].apply(remover_acentos)\n",
    "\n",
    "# Exibir valores únicos para verificar como a primeira dose está registrada\n",
    "print(df['vacina_descricao_dose'].unique())\n",
    "\n",
    "# Filtrar os registros que correspondem à primeira dose (após normalização)\n",
    "primeira_dose = df[df['vacina_descricao_dose'].str.contains('1 Dose', case=False, na=False)]\n",
    "\n",
    "# Contar o número de pacientes únicos que tomaram a primeira dose\n",
    "pacientes_primeira_dose = primeira_dose['paciente_id'].nunique()\n",
    "\n",
    "print(f\"Total de pacientes que tomaram a primeira dose: {pacientes_primeira_dose}\")\n",
    "\n"
   ]
  },
  {
   "cell_type": "code",
   "execution_count": null,
   "metadata": {
    "id": "S6ab9ExEC8-7"
   },
   "outputs": [],
   "source": [
    "# 4) # 4. Quantos pacientes com menos de 18 anos foram vacinados?\n",
    "df['paciente_dataNascimento'] = pd.to_datetime(df['paciente_dataNascimento'], errors='coerce')\n",
    "df['idade'] = pd.to_datetime('today').year - df['paciente_dataNascimento'].dt.year\n",
    "pacientes_menos_18 = df[df['idade'] < 18]['paciente_id'].nunique()\n",
    "pacientes_menos_18\n"
   ]
  },
  {
   "cell_type": "code",
   "execution_count": null,
   "metadata": {
    "id": "PVrY_-qlC8-8"
   },
   "outputs": [],
   "source": [
    "# 5) 5. Quantos estabelecimentos aplicaram vacinas no Acre?\n",
    "num_estabelecimentos = df['estabelecimento_razaoSocial'].nunique()\n",
    "\n",
    "# Exibir os resultados\n",
    "print(f\"Total de vacinas registradas: {num_vacinas}\")\n",
    "print(f\"Total de pacientes vacinados (paciente_id únicos): {num_pacientes_unicos}\")\n",
    "print(f\"Total de pacientes que tomaram a 1ª dose: {primeira_dose}\")\n",
    "print(f\"Total de pacientes com menos de 18 anos vacinados: {pacientes_menos_18}\")\n",
    "print(f\"Total de estabelecimentos que aplicaram vacinas no Acre: {num_estabelecimentos}\")\n"
   ]
  },
  {
   "cell_type": "markdown",
   "metadata": {
    "id": "LH1LSYvGC8-8"
   },
   "source": [
    "## 4) Vacinação II\n",
    "Gere um *DataFrame* que contenha somente os estabelecimentos que aplicaram vcinas a menores de 18 anos. Nesse *DataFrame* devem conter somente os dados dos estabelecimentos, mais uma coluna sendo a quantidade de vacinas que o estabelecimento aplicou a menores de 18 anos.  \n",
    "  \n",
    "1. crie uma cópia do *DataFrame* original, contendo somente os registros de vacinas realizadas a menores de 18 anos.  \n",
    "2. crie uma lista das colunas desse *DataFrame* com o atributo de *DataFrame* **.columns()**  \n",
    "3. Nesse *DataFrame* faça uma contagem do campo ```vacina_categoria_nome```.\n",
    "3. a partir da lista de colunas, escolha somente aquelas que são referentes ao estabelecimento, faça uma lista com esses valores.  \n",
    "4. usando o método *.loc*, selecione somente essas variáveis  \n",
    "5. Aplique o método **.drop_duplicates** e crie uma lista com uma linha para cada estabelecimento, com os dados do estabelecimento  "
   ]
  },
  {
   "cell_type": "code",
   "execution_count": null,
   "metadata": {
    "id": "3ojs12vUC8-8"
   },
   "outputs": [],
   "source": [
    "# 1)# Criar uma cópia do DataFrame original contendo somente vacinas aplicadas a menores de 18 anos\n",
    "df_menores_18 = df[df['paciente_idade'] < 18].copy()\n",
    "df_menores_18"
   ]
  },
  {
   "cell_type": "code",
   "execution_count": null,
   "metadata": {
    "id": "sLyevPRBC8-8"
   },
   "outputs": [],
   "source": [
    "# 2) Exibir as colunas do DataFrame\n",
    "colunas_df = df_menores_18.columns\n",
    "print(\"Colunas do DataFrame:\", colunas_df)\n"
   ]
  },
  {
   "cell_type": "code",
   "execution_count": null,
   "metadata": {
    "id": "lZAW-Dp8C8-8"
   },
   "outputs": [],
   "source": [
    "# 3) Contar as vacinas aplicadas por categoria\n",
    "contagem_vacina_categoria = df_menores_18['vacina_categoria_nome'].value_counts()\n",
    "print(\"Contagem por categoria de vacina:\", contagem_vacina_categoria)\n"
   ]
  },
  {
   "cell_type": "code",
   "execution_count": null,
   "metadata": {
    "id": "xxYsxrxAC8-8"
   },
   "outputs": [],
   "source": [
    "# 4)Selecionar somente as colunas referentes ao estabelecimento\n",
    "colunas_estabelecimento = [\n",
    "    'estabelecimento_valor', 'estabelecimento_razaoSocial', \n",
    "    'estabelecimento_municipio_nome', 'estabelecimento_uf'\n",
    "]\n",
    "colunas_estabelecimento"
   ]
  },
  {
   "cell_type": "code",
   "execution_count": null,
   "metadata": {
    "id": "vaX2x_0rC8-8"
   },
   "outputs": [],
   "source": [
    "# 5)Usar .loc para selecionar essas colunas no DataFrame\n",
    "df_estabelecimentos = df_menores_18.loc[:, colunas_estabelecimento].copy()\n",
    "df_estabelecimentos"
   ]
  },
  {
   "cell_type": "code",
   "execution_count": null,
   "metadata": {},
   "outputs": [],
   "source": [
    "# 6)# Adicionar uma coluna para contar o número de vacinas aplicadas por estabelecimento\n",
    "df_estabelecimentos['quantidade_vacinas'] = df_menores_18.groupby('estabelecimento_valor')['estabelecimento_valor'].transform('count')\n",
    "\n",
    "# Remover duplicatas para ter uma linha por estabelecimento\n",
    "df_estabelecimentos_unicos = df_estabelecimentos.drop_duplicates(subset='estabelecimento_valor')\n",
    "\n",
    "# Exibir o DataFrame final com os dados dos estabelecimentos\n",
    "print(df_estabelecimentos_unicos)"
   ]
  }
 ],
 "metadata": {
  "colab": {
   "provenance": []
  },
  "kernelspec": {
   "display_name": "Python 3 (ipykernel)",
   "language": "python",
   "name": "python3"
  },
  "language_info": {
   "codemirror_mode": {
    "name": "ipython",
    "version": 3
   },
   "file_extension": ".py",
   "mimetype": "text/x-python",
   "name": "python",
   "nbconvert_exporter": "python",
   "pygments_lexer": "ipython3",
   "version": "3.12.4"
  },
  "toc": {
   "base_numbering": 1,
   "nav_menu": {},
   "number_sections": false,
   "sideBar": true,
   "skip_h1_title": true,
   "title_cell": "Índice",
   "title_sidebar": "Conteúdo",
   "toc_cell": false,
   "toc_position": {},
   "toc_section_display": true,
   "toc_window_display": false
  },
  "varInspector": {
   "cols": {
    "lenName": 16,
    "lenType": 16,
    "lenVar": 40
   },
   "kernels_config": {
    "python": {
     "delete_cmd_postfix": "",
     "delete_cmd_prefix": "del ",
     "library": "var_list.py",
     "varRefreshCmd": "print(var_dic_list())"
    },
    "r": {
     "delete_cmd_postfix": ") ",
     "delete_cmd_prefix": "rm(",
     "library": "var_list.r",
     "varRefreshCmd": "cat(var_dic_list()) "
    }
   },
   "types_to_exclude": [
    "module",
    "function",
    "builtin_function_or_method",
    "instance",
    "_Feature"
   ],
   "window_display": false
  }
 },
 "nbformat": 4,
 "nbformat_minor": 4
}
