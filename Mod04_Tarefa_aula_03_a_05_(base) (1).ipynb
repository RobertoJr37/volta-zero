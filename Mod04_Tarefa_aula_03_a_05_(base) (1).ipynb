{
 "cells": [
  {
   "cell_type": "markdown",
   "metadata": {
    "id": "njUvbhQmC8-t"
   },
   "source": [
    "## Exercício 1: Vestibular\n",
    "\n",
    "Considere que a os dados gerados na célula abaixo contêm o número de acertos de 100 alunos em um vestibular para um curso de exatas, divididas pelos respectivos assuntos. Considere que cada assunto possui um número de questões conforme a tabela abaixo:\n",
    "\n",
    "| assunto | número de questões |\n",
    "|:---:|:---:|\n",
    "| Matemática | 24 |\n",
    "| Português | 18 |\n",
    "| Geografia | 8 |\n",
    "| Inglês | 8 |\n",
    "| História | 8 |\n",
    "| Física | 12 |\n",
    "| Química | 12 |\n",
    "\n",
    "Usando os comandos de operações com DataFrames que você aprendeu na Aula 03, calcule:\n",
    "\n",
    "1. (operações com escalar) Calcule o percentual de acerto dos alunos por assunto.  \n",
    "2. (operações entre *DataFrames) Calcule o total de acertos de cada aluno.  \n",
    "3. Calcule o porcentual geral de cada aluno.  \n",
    "4. Suponha que a nota de corte para a segunda fase seja 45. Quantos alunos tiveram nota maior que 45?  "
   ]
  },
  {
   "cell_type": "code",
   "execution_count": 133,
   "metadata": {
    "id": "Ll6TadxCC8-y"
   },
   "outputs": [],
   "source": [
    "import pandas as pd\n",
    "import numpy as np\n",
    "\n",
    "np.random.seed(42)\n",
    "df_mat = pd.DataFrame(np.random.randint(24, size=(100, 1)), columns=['Qt_acertos'])\n",
    "\n",
    "df_por = pd.DataFrame(np.random.randint(18, size=(100, 1)), columns=['Qt_acertos'])\n",
    "\n",
    "df_geo = pd.DataFrame(np.random.randint(8, size=(100, 1)), columns=['Qt_acertos'])\n",
    "\n",
    "df_ing = pd.DataFrame(np.random.randint(8, size=(100, 1)), columns=['Qt_acertos'])\n",
    "\n",
    "df_his = pd.DataFrame(np.random.randint(8, size=(100, 1)), columns=['Qt_acertos'])\n",
    "\n",
    "df_fis = pd.DataFrame(np.random.randint(12, size=(100, 1)), columns=['Qt_acertos'])\n",
    "\n",
    "df_qui = pd.DataFrame(np.random.randint(12, size=(100, 1)), columns=['Qt_acertos'])"
   ]
  },
  {
   "cell_type": "code",
   "execution_count": 134,
   "metadata": {
    "id": "JVmLXiC2C8-0"
   },
   "outputs": [],
   "source": [
    "# 1) Seu código aqui\n",
    "# Número de questões por assunto\n",
    "questoes = {\n",
    "    'Matemática': 24,\n",
    "    'Português': 18,\n",
    "    'Geografia': 8,\n",
    "    'Inglês': 8,\n",
    "    'História': 8,\n",
    "    'Física': 12,\n",
    "    'Química': 12\n",
    "}\n",
    "\n",
    "# Percentual de acertos por assunto\n",
    "df_mat['Pct_acertos'] = df_mat['Qt_acertos'] / questoes['Matemática'] * 100\n",
    "df_por['Pct_acertos'] = df_por['Qt_acertos'] / questoes['Português'] * 100\n",
    "df_geo['Pct_acertos'] = df_geo['Qt_acertos'] / questoes['Geografia'] * 100\n",
    "df_ing['Pct_acertos'] = df_ing['Qt_acertos'] / questoes['Inglês'] * 100\n",
    "df_his['Pct_acertos'] = df_his['Qt_acertos'] / questoes['História'] * 100\n",
    "df_fis['Pct_acertos'] = df_fis['Qt_acertos'] / questoes['Física'] * 100\n",
    "df_qui['Pct_acertos'] = df_qui['Qt_acertos'] / questoes['Química'] * 100"
   ]
  },
  {
   "cell_type": "code",
   "execution_count": 135,
   "metadata": {
    "id": "JbTwCyNHC8-1"
   },
   "outputs": [],
   "source": [
    "# 2) Seu código aqui\n",
    "\n",
    "# Total de questões no exame\n",
    "total_questoes = sum(questoes.values())\n",
    "\n",
    "# Calcular o total de acertos de cada aluno\n",
    "total_acertos = (df_mat['Qt_acertos'] + df_por['Qt_acertos'] + df_geo['Qt_acertos'] +\n",
    "                 df_ing['Qt_acertos'] + df_his['Qt_acertos'] + df_fis['Qt_acertos'] + \n",
    "                 df_qui['Qt_acertos'])\n"
   ]
  },
  {
   "cell_type": "code",
   "execution_count": 136,
   "metadata": {
    "id": "c2L8dJkVC8-3"
   },
   "outputs": [],
   "source": [
    "# 3) Seu código aqui\n",
    "# Calcular o percentual geral de cada aluno\n",
    "pct_geral = (total_acertos / total_questoes) * 100\n",
    "\n",
    "# Criar um DataFrame com total de acertos e percentual geral\n",
    "df_resultados = pd.DataFrame({\n",
    "    'Total_acertos': total_acertos,\n",
    "    'Pct_geral': pct_geral\n",
    "})\n"
   ]
  },
  {
   "cell_type": "code",
   "execution_count": 137,
   "metadata": {
    "id": "PZTZ7DFzC8-3"
   },
   "outputs": [
    {
     "name": "stdout",
     "output_type": "stream",
     "text": [
      "    Total_acertos  Pct_geral\n",
      "0              35  38.888889\n",
      "1              48  53.333333\n",
      "2              50  55.555556\n",
      "3              32  35.555556\n",
      "4              30  33.333333\n",
      "..            ...        ...\n",
      "95             34  37.777778\n",
      "96             27  30.000000\n",
      "97             40  44.444444\n",
      "98             40  44.444444\n",
      "99             42  46.666667\n",
      "\n",
      "[100 rows x 2 columns]\n",
      "Número de alunos com nota maior que 45: 31\n"
     ]
    }
   ],
   "source": [
    "# 4) Seu código aqui\n",
    "# Verificar quantos alunos tiveram nota maior que 45\n",
    "alunos_acima_corte = df_resultados[df_resultados['Total_acertos'] > 45].shape[0]\n",
    "\n",
    "# Exibir os resultados\n",
    "print(df_resultados)\n",
    "print(f\"Número de alunos com nota maior que 45: {alunos_acima_corte}\")"
   ]
  },
  {
   "cell_type": "markdown",
   "metadata": {
    "id": "Hlfl75XXC8-4"
   },
   "source": [
    "## 2) Vestibular II\n",
    "\n",
    "Ainda sobre o mesmo banco de dados:\n",
    "\n",
    "1. Neste vestibular, quem 'zera' em matemática, física ou química está desqualificado. Monte um novo *DataFrame* com os alunos desqualificados por este critério.\n",
    "2. Quantos são esses alunos?\n",
    "3. Qual a média desses alunos em história e geografia?\n",
    "4. Monte um *DataFrame* com os alunos que passaram para a segunda fase. Repare que estes alunos não podem ter sido desqualificados."
   ]
  },
  {
   "cell_type": "code",
   "execution_count": 139,
   "metadata": {
    "id": "hPaMGXvJC8-4"
   },
   "outputs": [
    {
     "name": "stdout",
     "output_type": "stream",
     "text": [
      "Total de alunos desqualificados: 23\n",
      "Média dos alunos desqualificados em História: 3.43\n",
      "Média dos alunos desqualificados em Geografia: 3.22\n",
      "Total de alunos que passaram para a segunda fase: 26\n"
     ]
    }
   ],
   "source": [
    "# seu código aqui\n",
    "\n",
    "# Criar um DataFrame com total de acertos e percentual geral\n",
    "df_resultados = pd.DataFrame({\n",
    "    'Matemática': df_mat['Qt_acertos'],\n",
    "    'Física': df_fis['Qt_acertos'],\n",
    "    'Química': df_qui['Qt_acertos'],\n",
    "    'História': df_his['Qt_acertos'],\n",
    "    'Geografia': df_geo['Qt_acertos'],\n",
    "    'Total_acertos': total_acertos,\n",
    "    'Pct_geral': pct_geral\n",
    "})\n",
    "\n",
    "# 1. Criar um DataFrame com alunos desqualificados (zeraram em Matemática, Física ou Química)\n",
    "df_desqualificados = df_resultados[(df_resultados['Matemática'] == 0) |\n",
    "                                   (df_resultados['Física'] == 0) |\n",
    "                                   (df_resultados['Química'] == 0)]\n",
    "\n",
    "# 2. Quantos alunos foram desqualificados?\n",
    "num_desqualificados = df_desqualificados.shape[0]\n",
    "\n",
    "# 3. Calcular a média de História e Geografia dos alunos desqualificados\n",
    "media_hist_geo_desqualificados = df_desqualificados[['História', 'Geografia']].mean()\n",
    "\n",
    "# 4. Criar um DataFrame com os alunos que passaram para a segunda fase\n",
    "# Alunos que não estão desqualificados e têm nota maior que 45\n",
    "df_passaram_segunda_fase = df_resultados[(df_resultados['Matemática'] > 0) &\n",
    "                                         (df_resultados['Física'] > 0) &\n",
    "                                         (df_resultados['Química'] > 0) &\n",
    "                                         (df_resultados['Total_acertos'] > 45)]\n",
    "\n",
    "# Exibir os resultados\n",
    "print(f\"Total de alunos desqualificados: {num_desqualificados}\")\n",
    "print(f\"Média dos alunos desqualificados em História: {media_hist_geo_desqualificados['História']:.2f}\")\n",
    "print(f\"Média dos alunos desqualificados em Geografia: {media_hist_geo_desqualificados['Geografia']:.2f}\")\n",
    "print(f\"Total de alunos que passaram para a segunda fase: {df_passaram_segunda_fase.shape[0]}\")"
   ]
  },
  {
   "cell_type": "markdown",
   "metadata": {
    "id": "EGBUWpAHC8-5"
   },
   "source": [
    "## 3) Vacinações no Acre\n",
    "Vamos trabalhar agora com a base de vacinações no Acre. Para facilitar a sua vida, copiamos o link do arquivo na célula abaixo.\n",
    "\n",
    "1. Quantas vacinas estão registradas nessa base?  \n",
    "2. Quantos pacientes foram vacinados? (considere um paciente para cada valor único de ```paciente_id```)  \n",
    "3. Quantos pacientes únicos tomaram a primeira dose? OBS: Há um caractere especial neste campo. Receba os valores do campo com o método ```.unique()```.   \n",
    "4. Quantos pacientes com menos de 18 anos foram vacinados?  \n",
    "5. Quantos estabelecimentos aplicaram vacina no Acre?\n",
    "\n",
    "\n",
    "**OBS:** O portal do DATASUS pode apresentar instabilidades, retornando um erro na segunda célula abaixo. Por este motivo está disponível uma base estática, que se for baixada para o seu *working directory* pode ser lida com este comando: ```df = pd.read_csv('registros de vacinacao covid ACRE.csv', sep=';')```.\n",
    "\n",
    "**OBS2:** Para saber qual é o seu working directory, rode no jupyter: ```!pwd```."
   ]
  },
  {
   "cell_type": "code",
   "execution_count": 141,
   "metadata": {
    "id": "ET4r139hC8-5"
   },
   "outputs": [],
   "source": [
    "arquivo = 'https://s3.sa-east-1.amazonaws.com/ckan.saude.gov.br/SIPNI/COVID/uf/uf%3DAC/part-00000-105cf5c5-0cd3-4017-b5f0-acb8e6421676.c000.csv'"
   ]
  },
  {
   "cell_type": "code",
   "execution_count": 142,
   "metadata": {
    "id": "SC9YMWLSC8-6"
   },
   "outputs": [
    {
     "data": {
      "text/plain": [
       "390911"
      ]
     },
     "execution_count": 142,
     "metadata": {},
     "output_type": "execute_result"
    }
   ],
   "source": [
    "# 1) Sua solução aqui\n",
    "# Carregar o arquivo CSV\n",
    "df = pd.read_csv(arquivo, sep=';', decimal=',')\n",
    "\n",
    "# 1. Quantas vacinas estão registradas nessa base?\n",
    "num_vacinas = df.shape[0]\n",
    "num_vacinas\n"
   ]
  },
  {
   "cell_type": "code",
   "execution_count": 143,
   "metadata": {
    "id": "PMztY1RlC8-7"
   },
   "outputs": [
    {
     "data": {
      "text/plain": [
       "318850"
      ]
     },
     "execution_count": 143,
     "metadata": {},
     "output_type": "execute_result"
    }
   ],
   "source": [
    "# 2. Quantos pacientes foram vacinados (considerando paciente_id únicos)?\n",
    "num_pacientes_unicos = df['paciente_id'].nunique()\n",
    "num_pacientes_unicos\n"
   ]
  },
  {
   "cell_type": "code",
   "execution_count": 144,
   "metadata": {
    "id": "V_wr--3JC8-7"
   },
   "outputs": [
    {
     "data": {
      "text/plain": [
       "144276"
      ]
     },
     "execution_count": 144,
     "metadata": {},
     "output_type": "execute_result"
    }
   ],
   "source": [
    "# 3. Quantos pacientes únicos tomaram a primeira dose? (campo com caractere especial)\n",
    "primeira_dose = df[df['vacina_descricao_dose'].str.contains('1ª Dose')]['paciente_id'].nunique()\n",
    "primeira_dose"
   ]
  },
  {
   "cell_type": "code",
   "execution_count": 145,
   "metadata": {
    "id": "SPHgIxtcC8-7"
   },
   "outputs": [
    {
     "name": "stdout",
     "output_type": "stream",
     "text": [
      "['1a Dose' 'Reforco' 'Unica' '2a Dose' 'Dose Adicional' '2o Reforco'\n",
      " '1a Dose Revacinacao' '3a Dose' '1o Reforco' 'Dose' 'Revacinacao'\n",
      " '3o Reforco' '2a Dose Revacinacao' '3a Dose Revacinacao'\n",
      " '4a Dose Revacinacao' '5a Dose Revacinacao']\n",
      "Total de pacientes que tomaram a primeira dose: 0\n"
     ]
    }
   ],
   "source": [
    "# 3) solução alternativa\n",
    "import pandas as pd\n",
    "import unicodedata\n",
    "\n",
    "# Função para normalizar strings removendo acentos e caracteres especiais\n",
    "def remover_acentos(texto):\n",
    "    if isinstance(texto, str):\n",
    "        return unicodedata.normalize('NFKD', texto).encode('ASCII', 'ignore').decode('utf-8')\n",
    "    return texto\n",
    "\n",
    "# Aplicar a função ao campo 'vacina_descricao_dose'\n",
    "df['vacina_descricao_dose'] = df['vacina_descricao_dose'].apply(remover_acentos)\n",
    "\n",
    "# Exibir valores únicos para verificar como a primeira dose está registrada\n",
    "print(df['vacina_descricao_dose'].unique())\n",
    "\n",
    "# Filtrar os registros que correspondem à primeira dose (após normalização)\n",
    "primeira_dose = df[df['vacina_descricao_dose'].str.contains('1 Dose', case=False, na=False)]\n",
    "\n",
    "# Contar o número de pacientes únicos que tomaram a primeira dose\n",
    "pacientes_primeira_dose = primeira_dose['paciente_id'].nunique()\n",
    "\n",
    "print(f\"Total de pacientes que tomaram a primeira dose: {pacientes_primeira_dose}\")\n",
    "\n"
   ]
  },
  {
   "cell_type": "code",
   "execution_count": 146,
   "metadata": {
    "id": "S6ab9ExEC8-7"
   },
   "outputs": [
    {
     "data": {
      "text/plain": [
       "52919"
      ]
     },
     "execution_count": 146,
     "metadata": {},
     "output_type": "execute_result"
    }
   ],
   "source": [
    "# 4) # 4. Quantos pacientes com menos de 18 anos foram vacinados?\n",
    "df['paciente_dataNascimento'] = pd.to_datetime(df['paciente_dataNascimento'], errors='coerce')\n",
    "df['idade'] = pd.to_datetime('today').year - df['paciente_dataNascimento'].dt.year\n",
    "pacientes_menos_18 = df[df['idade'] < 18]['paciente_id'].nunique()\n",
    "pacientes_menos_18\n"
   ]
  },
  {
   "cell_type": "code",
   "execution_count": 147,
   "metadata": {
    "id": "PVrY_-qlC8-8"
   },
   "outputs": [
    {
     "name": "stdout",
     "output_type": "stream",
     "text": [
      "Total de vacinas registradas: 390911\n",
      "Total de pacientes vacinados (paciente_id únicos): 318850\n",
      "Total de pacientes que tomaram a 1ª dose: Empty DataFrame\n",
      "Columns: [document_id, paciente_id, paciente_idade, paciente_dataNascimento, paciente_enumSexoBiologico, paciente_racaCor_codigo, paciente_racaCor_valor, paciente_endereco_coIbgeMunicipio, paciente_endereco_coPais, paciente_endereco_nmMunicipio, paciente_endereco_nmPais, paciente_endereco_uf, paciente_endereco_cep, paciente_nacionalidade_enumNacionalidade, estabelecimento_valor, estabelecimento_razaoSocial, estalecimento_noFantasia, estabelecimento_municipio_codigo, estabelecimento_municipio_nome, estabelecimento_uf, vacina_grupoAtendimento_codigo, vacina_grupoAtendimento_nome, vacina_categoria_codigo, vacina_categoria_nome, vacina_lote, vacina_fabricante_nome, vacina_fabricante_referencia, vacina_dataAplicacao, vacina_descricao_dose, vacina_codigo, vacina_nome, sistema_origem]\n",
      "Index: []\n",
      "\n",
      "[0 rows x 32 columns]\n",
      "Total de pacientes com menos de 18 anos vacinados: 52919\n",
      "Total de estabelecimentos que aplicaram vacinas no Acre: 64\n"
     ]
    }
   ],
   "source": [
    "# 5) 5. Quantos estabelecimentos aplicaram vacinas no Acre?\n",
    "num_estabelecimentos = df['estabelecimento_razaoSocial'].nunique()\n",
    "\n",
    "# Exibir os resultados\n",
    "print(f\"Total de vacinas registradas: {num_vacinas}\")\n",
    "print(f\"Total de pacientes vacinados (paciente_id únicos): {num_pacientes_unicos}\")\n",
    "print(f\"Total de pacientes que tomaram a 1ª dose: {primeira_dose}\")\n",
    "print(f\"Total de pacientes com menos de 18 anos vacinados: {pacientes_menos_18}\")\n",
    "print(f\"Total de estabelecimentos que aplicaram vacinas no Acre: {num_estabelecimentos}\")\n"
   ]
  },
  {
   "cell_type": "markdown",
   "metadata": {
    "id": "LH1LSYvGC8-8"
   },
   "source": [
    "## 4) Vacinação II\n",
    "Gere um *DataFrame* que contenha somente os estabelecimentos que aplicaram vcinas a menores de 18 anos. Nesse *DataFrame* devem conter somente os dados dos estabelecimentos, mais uma coluna sendo a quantidade de vacinas que o estabelecimento aplicou a menores de 18 anos.  \n",
    "  \n",
    "1. crie uma cópia do *DataFrame* original, contendo somente os registros de vacinas realizadas a menores de 18 anos.  \n",
    "2. crie uma lista das colunas desse *DataFrame* com o atributo de *DataFrame* **.columns()**  \n",
    "3. Nesse *DataFrame* faça uma contagem do campo ```vacina_categoria_nome```.\n",
    "3. a partir da lista de colunas, escolha somente aquelas que são referentes ao estabelecimento, faça uma lista com esses valores.  \n",
    "4. usando o método *.loc*, selecione somente essas variáveis  \n",
    "5. Aplique o método **.drop_duplicates** e crie uma lista com uma linha para cada estabelecimento, com os dados do estabelecimento  "
   ]
  },
  {
   "cell_type": "code",
   "execution_count": 149,
   "metadata": {
    "id": "3ojs12vUC8-8"
   },
   "outputs": [
    {
     "data": {
      "text/html": [
       "<div>\n",
       "<style scoped>\n",
       "    .dataframe tbody tr th:only-of-type {\n",
       "        vertical-align: middle;\n",
       "    }\n",
       "\n",
       "    .dataframe tbody tr th {\n",
       "        vertical-align: top;\n",
       "    }\n",
       "\n",
       "    .dataframe thead th {\n",
       "        text-align: right;\n",
       "    }\n",
       "</style>\n",
       "<table border=\"1\" class=\"dataframe\">\n",
       "  <thead>\n",
       "    <tr style=\"text-align: right;\">\n",
       "      <th></th>\n",
       "      <th>document_id</th>\n",
       "      <th>paciente_id</th>\n",
       "      <th>paciente_idade</th>\n",
       "      <th>paciente_dataNascimento</th>\n",
       "      <th>paciente_enumSexoBiologico</th>\n",
       "      <th>paciente_racaCor_codigo</th>\n",
       "      <th>paciente_racaCor_valor</th>\n",
       "      <th>paciente_endereco_coIbgeMunicipio</th>\n",
       "      <th>paciente_endereco_coPais</th>\n",
       "      <th>paciente_endereco_nmMunicipio</th>\n",
       "      <th>...</th>\n",
       "      <th>vacina_categoria_nome</th>\n",
       "      <th>vacina_lote</th>\n",
       "      <th>vacina_fabricante_nome</th>\n",
       "      <th>vacina_fabricante_referencia</th>\n",
       "      <th>vacina_dataAplicacao</th>\n",
       "      <th>vacina_descricao_dose</th>\n",
       "      <th>vacina_codigo</th>\n",
       "      <th>vacina_nome</th>\n",
       "      <th>sistema_origem</th>\n",
       "      <th>idade</th>\n",
       "    </tr>\n",
       "  </thead>\n",
       "  <tbody>\n",
       "    <tr>\n",
       "      <th>0</th>\n",
       "      <td>fbe28799-25d1-4201-ba7b-535d6364923d-i0b0</td>\n",
       "      <td>f2fcc79a2ffb7aabbe8e31cf839b846d1c4e1bb46fd042...</td>\n",
       "      <td>11</td>\n",
       "      <td>2010-10-13</td>\n",
       "      <td>M</td>\n",
       "      <td>4</td>\n",
       "      <td>AMARELA</td>\n",
       "      <td>120038.0</td>\n",
       "      <td>10.0</td>\n",
       "      <td>PLACIDO DE CASTRO</td>\n",
       "      <td>...</td>\n",
       "      <td>NaN</td>\n",
       "      <td>210520</td>\n",
       "      <td>SINOVAC/BUTANTAN</td>\n",
       "      <td>29501</td>\n",
       "      <td>2022-08-04</td>\n",
       "      <td>1a Dose</td>\n",
       "      <td>86</td>\n",
       "      <td>COVID-19 SINOVAC/BUTANTAN - CORONAVAC</td>\n",
       "      <td>Novo PNI</td>\n",
       "      <td>14</td>\n",
       "    </tr>\n",
       "    <tr>\n",
       "      <th>2</th>\n",
       "      <td>d704d5e0-db08-4864-93ff-1c49ba1c4e44-i0b0</td>\n",
       "      <td>51dfac9ce22890c86f340ae55bdd8eb0e6159f4ace007a...</td>\n",
       "      <td>4</td>\n",
       "      <td>2019-03-25</td>\n",
       "      <td>M</td>\n",
       "      <td>1</td>\n",
       "      <td>BRANCA</td>\n",
       "      <td>120040.0</td>\n",
       "      <td>10.0</td>\n",
       "      <td>RIO BRANCO</td>\n",
       "      <td>...</td>\n",
       "      <td>Faixa Etária</td>\n",
       "      <td>230165</td>\n",
       "      <td>BUTANTAN</td>\n",
       "      <td>152</td>\n",
       "      <td>2024-01-29</td>\n",
       "      <td>Unica</td>\n",
       "      <td>33</td>\n",
       "      <td>INF3</td>\n",
       "      <td>Novo PNI</td>\n",
       "      <td>5</td>\n",
       "    </tr>\n",
       "    <tr>\n",
       "      <th>10</th>\n",
       "      <td>ad5909d8-8f94-4752-af8f-22b11222d554-i0b0</td>\n",
       "      <td>5717bbf8f979c6757fb3ceadb53763b5f84899523ef249...</td>\n",
       "      <td>10</td>\n",
       "      <td>2011-09-12</td>\n",
       "      <td>M</td>\n",
       "      <td>3</td>\n",
       "      <td>PARDA</td>\n",
       "      <td>120040.0</td>\n",
       "      <td>10.0</td>\n",
       "      <td>RIO BRANCO</td>\n",
       "      <td>...</td>\n",
       "      <td>NaN</td>\n",
       "      <td>FP1176</td>\n",
       "      <td>Pendente Identificação</td>\n",
       "      <td>Organization/28290</td>\n",
       "      <td>2022-01-24</td>\n",
       "      <td>1a Dose</td>\n",
       "      <td>99</td>\n",
       "      <td>COVID-19 PEDIÁTRICA - PFIZER COMIRNATY</td>\n",
       "      <td>Novo PNI</td>\n",
       "      <td>13</td>\n",
       "    </tr>\n",
       "    <tr>\n",
       "      <th>11</th>\n",
       "      <td>b1d87025-4bcd-4da0-a898-8706f6384a65-i0b0</td>\n",
       "      <td>82413637d0d77397a18603710269e6cc95ab483035a9b0...</td>\n",
       "      <td>6</td>\n",
       "      <td>2017-02-26</td>\n",
       "      <td>F</td>\n",
       "      <td>3</td>\n",
       "      <td>PARDA</td>\n",
       "      <td>120035.0</td>\n",
       "      <td>10.0</td>\n",
       "      <td>MARECHAL THAUMATURGO</td>\n",
       "      <td>...</td>\n",
       "      <td>Faixa Etária</td>\n",
       "      <td>230165</td>\n",
       "      <td>BUTANTAN</td>\n",
       "      <td>152</td>\n",
       "      <td>2024-02-02</td>\n",
       "      <td>Unica</td>\n",
       "      <td>33</td>\n",
       "      <td>INF3</td>\n",
       "      <td>Novo PNI</td>\n",
       "      <td>7</td>\n",
       "    </tr>\n",
       "    <tr>\n",
       "      <th>13</th>\n",
       "      <td>b1dec827-67a6-4d15-bb7a-faba68a25c83-i0b0</td>\n",
       "      <td>7a3b94f3ed81df06fe789fc48fc31b1b5cf840e6055cc0...</td>\n",
       "      <td>16</td>\n",
       "      <td>2005-05-23</td>\n",
       "      <td>M</td>\n",
       "      <td>4</td>\n",
       "      <td>AMARELA</td>\n",
       "      <td>120020.0</td>\n",
       "      <td>10.0</td>\n",
       "      <td>CRUZEIRO DO SUL</td>\n",
       "      <td>...</td>\n",
       "      <td>Faixa Etária</td>\n",
       "      <td>FF8848</td>\n",
       "      <td>PFIZER</td>\n",
       "      <td>Organization/00394544000851</td>\n",
       "      <td>2021-11-04</td>\n",
       "      <td>2a Dose</td>\n",
       "      <td>87</td>\n",
       "      <td>COVID-19 PFIZER - COMIRNATY</td>\n",
       "      <td>Novo PNI</td>\n",
       "      <td>19</td>\n",
       "    </tr>\n",
       "    <tr>\n",
       "      <th>...</th>\n",
       "      <td>...</td>\n",
       "      <td>...</td>\n",
       "      <td>...</td>\n",
       "      <td>...</td>\n",
       "      <td>...</td>\n",
       "      <td>...</td>\n",
       "      <td>...</td>\n",
       "      <td>...</td>\n",
       "      <td>...</td>\n",
       "      <td>...</td>\n",
       "      <td>...</td>\n",
       "      <td>...</td>\n",
       "      <td>...</td>\n",
       "      <td>...</td>\n",
       "      <td>...</td>\n",
       "      <td>...</td>\n",
       "      <td>...</td>\n",
       "      <td>...</td>\n",
       "      <td>...</td>\n",
       "      <td>...</td>\n",
       "      <td>...</td>\n",
       "    </tr>\n",
       "    <tr>\n",
       "      <th>390881</th>\n",
       "      <td>5464a4d4-0a5b-4e00-b5a2-2e89df80ad34-i0b0</td>\n",
       "      <td>23b56a5b7d6cb3790f8a42ac0029d31b9c2615d7dee4d0...</td>\n",
       "      <td>13</td>\n",
       "      <td>2008-11-21</td>\n",
       "      <td>M</td>\n",
       "      <td>1</td>\n",
       "      <td>BRANCA</td>\n",
       "      <td>120038.0</td>\n",
       "      <td>10.0</td>\n",
       "      <td>PLACIDO DE CASTRO</td>\n",
       "      <td>...</td>\n",
       "      <td>Faixa Etária</td>\n",
       "      <td>31065BD</td>\n",
       "      <td>PFIZER</td>\n",
       "      <td>Organization/28290</td>\n",
       "      <td>2021-12-29</td>\n",
       "      <td>1a Dose</td>\n",
       "      <td>87</td>\n",
       "      <td>COVID-19 PFIZER - COMIRNATY</td>\n",
       "      <td>Novo PNI</td>\n",
       "      <td>16</td>\n",
       "    </tr>\n",
       "    <tr>\n",
       "      <th>390885</th>\n",
       "      <td>55124b10-2406-4f5a-918e-8cd5551348ba-i0b0</td>\n",
       "      <td>c94c456466b531121d064d9a07242b9531a9de122aae01...</td>\n",
       "      <td>8</td>\n",
       "      <td>2014-10-27</td>\n",
       "      <td>F</td>\n",
       "      <td>3</td>\n",
       "      <td>PARDA</td>\n",
       "      <td>120032.0</td>\n",
       "      <td>10.0</td>\n",
       "      <td>JORDAO</td>\n",
       "      <td>...</td>\n",
       "      <td>Faixa Etária</td>\n",
       "      <td>gn0764</td>\n",
       "      <td>PFIZER - PEDIÁTRICA</td>\n",
       "      <td>NaN</td>\n",
       "      <td>2023-10-23</td>\n",
       "      <td>1o Reforco</td>\n",
       "      <td>99</td>\n",
       "      <td>COVID-19 PFIZER - COMIRNATY PEDIÁTRICA</td>\n",
       "      <td>ESUS APS - NACIONAL (OFFLINE)</td>\n",
       "      <td>10</td>\n",
       "    </tr>\n",
       "    <tr>\n",
       "      <th>390892</th>\n",
       "      <td>55a36659-06a9-4fe7-b5da-f2581236bedf-i0b0</td>\n",
       "      <td>19ec9cd547a52c77768a88ad2ff712765a54b0ffb2b4ce...</td>\n",
       "      <td>17</td>\n",
       "      <td>2004-03-30</td>\n",
       "      <td>F</td>\n",
       "      <td>4</td>\n",
       "      <td>AMARELA</td>\n",
       "      <td>120030.0</td>\n",
       "      <td>10.0</td>\n",
       "      <td>FEIJO</td>\n",
       "      <td>...</td>\n",
       "      <td>Faixa Etária</td>\n",
       "      <td>FF8848</td>\n",
       "      <td>PFIZER</td>\n",
       "      <td>Organization/00394544000851</td>\n",
       "      <td>2021-10-20</td>\n",
       "      <td>1a Dose</td>\n",
       "      <td>87</td>\n",
       "      <td>COVID-19 PFIZER - COMIRNATY</td>\n",
       "      <td>Novo PNI</td>\n",
       "      <td>20</td>\n",
       "    </tr>\n",
       "    <tr>\n",
       "      <th>390894</th>\n",
       "      <td>55bad048-823a-4681-a47a-b5a90a539da5-i0b0</td>\n",
       "      <td>59bca169e1a4976cdad1c63be1fb580e2f07cbad9972fa...</td>\n",
       "      <td>12</td>\n",
       "      <td>2010-01-11</td>\n",
       "      <td>F</td>\n",
       "      <td>99</td>\n",
       "      <td>SEM INFORMACAO</td>\n",
       "      <td>120070.0</td>\n",
       "      <td>10.0</td>\n",
       "      <td>XAPURI</td>\n",
       "      <td>...</td>\n",
       "      <td>Faixa Etária</td>\n",
       "      <td>210520</td>\n",
       "      <td>SINOVAC/BUTANTAN</td>\n",
       "      <td>29501</td>\n",
       "      <td>2022-07-27</td>\n",
       "      <td>2a Dose</td>\n",
       "      <td>86</td>\n",
       "      <td>COVID-19 SINOVAC/BUTANTAN - CORONAVAC</td>\n",
       "      <td>Novo PNI</td>\n",
       "      <td>14</td>\n",
       "    </tr>\n",
       "    <tr>\n",
       "      <th>390907</th>\n",
       "      <td>57221128-e7c1-4279-aeee-7415d20125c1-i0b0</td>\n",
       "      <td>3c737592054f266443273900fe3cd00ab90116e5a68d68...</td>\n",
       "      <td>12</td>\n",
       "      <td>2009-04-24</td>\n",
       "      <td>F</td>\n",
       "      <td>99</td>\n",
       "      <td>SEM INFORMACAO</td>\n",
       "      <td>120040.0</td>\n",
       "      <td>10.0</td>\n",
       "      <td>RIO BRANCO</td>\n",
       "      <td>...</td>\n",
       "      <td>Faixa Etária</td>\n",
       "      <td>FD7208</td>\n",
       "      <td>PFIZER</td>\n",
       "      <td>Organization/00394544000851</td>\n",
       "      <td>2021-08-19</td>\n",
       "      <td>1a Dose</td>\n",
       "      <td>87</td>\n",
       "      <td>COVID-19 PFIZER - COMIRNATY</td>\n",
       "      <td>Novo PNI</td>\n",
       "      <td>15</td>\n",
       "    </tr>\n",
       "  </tbody>\n",
       "</table>\n",
       "<p>79220 rows × 33 columns</p>\n",
       "</div>"
      ],
      "text/plain": [
       "                                      document_id  \\\n",
       "0       fbe28799-25d1-4201-ba7b-535d6364923d-i0b0   \n",
       "2       d704d5e0-db08-4864-93ff-1c49ba1c4e44-i0b0   \n",
       "10      ad5909d8-8f94-4752-af8f-22b11222d554-i0b0   \n",
       "11      b1d87025-4bcd-4da0-a898-8706f6384a65-i0b0   \n",
       "13      b1dec827-67a6-4d15-bb7a-faba68a25c83-i0b0   \n",
       "...                                           ...   \n",
       "390881  5464a4d4-0a5b-4e00-b5a2-2e89df80ad34-i0b0   \n",
       "390885  55124b10-2406-4f5a-918e-8cd5551348ba-i0b0   \n",
       "390892  55a36659-06a9-4fe7-b5da-f2581236bedf-i0b0   \n",
       "390894  55bad048-823a-4681-a47a-b5a90a539da5-i0b0   \n",
       "390907  57221128-e7c1-4279-aeee-7415d20125c1-i0b0   \n",
       "\n",
       "                                              paciente_id  paciente_idade  \\\n",
       "0       f2fcc79a2ffb7aabbe8e31cf839b846d1c4e1bb46fd042...              11   \n",
       "2       51dfac9ce22890c86f340ae55bdd8eb0e6159f4ace007a...               4   \n",
       "10      5717bbf8f979c6757fb3ceadb53763b5f84899523ef249...              10   \n",
       "11      82413637d0d77397a18603710269e6cc95ab483035a9b0...               6   \n",
       "13      7a3b94f3ed81df06fe789fc48fc31b1b5cf840e6055cc0...              16   \n",
       "...                                                   ...             ...   \n",
       "390881  23b56a5b7d6cb3790f8a42ac0029d31b9c2615d7dee4d0...              13   \n",
       "390885  c94c456466b531121d064d9a07242b9531a9de122aae01...               8   \n",
       "390892  19ec9cd547a52c77768a88ad2ff712765a54b0ffb2b4ce...              17   \n",
       "390894  59bca169e1a4976cdad1c63be1fb580e2f07cbad9972fa...              12   \n",
       "390907  3c737592054f266443273900fe3cd00ab90116e5a68d68...              12   \n",
       "\n",
       "       paciente_dataNascimento paciente_enumSexoBiologico  \\\n",
       "0                   2010-10-13                          M   \n",
       "2                   2019-03-25                          M   \n",
       "10                  2011-09-12                          M   \n",
       "11                  2017-02-26                          F   \n",
       "13                  2005-05-23                          M   \n",
       "...                        ...                        ...   \n",
       "390881              2008-11-21                          M   \n",
       "390885              2014-10-27                          F   \n",
       "390892              2004-03-30                          F   \n",
       "390894              2010-01-11                          F   \n",
       "390907              2009-04-24                          F   \n",
       "\n",
       "        paciente_racaCor_codigo paciente_racaCor_valor  \\\n",
       "0                             4                AMARELA   \n",
       "2                             1                 BRANCA   \n",
       "10                            3                  PARDA   \n",
       "11                            3                  PARDA   \n",
       "13                            4                AMARELA   \n",
       "...                         ...                    ...   \n",
       "390881                        1                 BRANCA   \n",
       "390885                        3                  PARDA   \n",
       "390892                        4                AMARELA   \n",
       "390894                       99         SEM INFORMACAO   \n",
       "390907                       99         SEM INFORMACAO   \n",
       "\n",
       "        paciente_endereco_coIbgeMunicipio  paciente_endereco_coPais  \\\n",
       "0                                120038.0                      10.0   \n",
       "2                                120040.0                      10.0   \n",
       "10                               120040.0                      10.0   \n",
       "11                               120035.0                      10.0   \n",
       "13                               120020.0                      10.0   \n",
       "...                                   ...                       ...   \n",
       "390881                           120038.0                      10.0   \n",
       "390885                           120032.0                      10.0   \n",
       "390892                           120030.0                      10.0   \n",
       "390894                           120070.0                      10.0   \n",
       "390907                           120040.0                      10.0   \n",
       "\n",
       "       paciente_endereco_nmMunicipio  ... vacina_categoria_nome vacina_lote  \\\n",
       "0                  PLACIDO DE CASTRO  ...                   NaN      210520   \n",
       "2                         RIO BRANCO  ...          Faixa Etária      230165   \n",
       "10                        RIO BRANCO  ...                   NaN      FP1176   \n",
       "11              MARECHAL THAUMATURGO  ...          Faixa Etária      230165   \n",
       "13                   CRUZEIRO DO SUL  ...          Faixa Etária      FF8848   \n",
       "...                              ...  ...                   ...         ...   \n",
       "390881             PLACIDO DE CASTRO  ...          Faixa Etária     31065BD   \n",
       "390885                        JORDAO  ...          Faixa Etária      gn0764   \n",
       "390892                         FEIJO  ...          Faixa Etária      FF8848   \n",
       "390894                        XAPURI  ...          Faixa Etária      210520   \n",
       "390907                    RIO BRANCO  ...          Faixa Etária      FD7208   \n",
       "\n",
       "        vacina_fabricante_nome vacina_fabricante_referencia  \\\n",
       "0             SINOVAC/BUTANTAN                        29501   \n",
       "2                     BUTANTAN                          152   \n",
       "10      Pendente Identificação           Organization/28290   \n",
       "11                    BUTANTAN                          152   \n",
       "13                      PFIZER  Organization/00394544000851   \n",
       "...                        ...                          ...   \n",
       "390881                  PFIZER           Organization/28290   \n",
       "390885     PFIZER - PEDIÁTRICA                          NaN   \n",
       "390892                  PFIZER  Organization/00394544000851   \n",
       "390894        SINOVAC/BUTANTAN                        29501   \n",
       "390907                  PFIZER  Organization/00394544000851   \n",
       "\n",
       "        vacina_dataAplicacao vacina_descricao_dose vacina_codigo  \\\n",
       "0                 2022-08-04               1a Dose            86   \n",
       "2                 2024-01-29                 Unica            33   \n",
       "10                2022-01-24               1a Dose            99   \n",
       "11                2024-02-02                 Unica            33   \n",
       "13                2021-11-04               2a Dose            87   \n",
       "...                      ...                   ...           ...   \n",
       "390881            2021-12-29               1a Dose            87   \n",
       "390885            2023-10-23            1o Reforco            99   \n",
       "390892            2021-10-20               1a Dose            87   \n",
       "390894            2022-07-27               2a Dose            86   \n",
       "390907            2021-08-19               1a Dose            87   \n",
       "\n",
       "                                   vacina_nome                 sistema_origem  \\\n",
       "0        COVID-19 SINOVAC/BUTANTAN - CORONAVAC                       Novo PNI   \n",
       "2                                         INF3                       Novo PNI   \n",
       "10      COVID-19 PEDIÁTRICA - PFIZER COMIRNATY                       Novo PNI   \n",
       "11                                        INF3                       Novo PNI   \n",
       "13                 COVID-19 PFIZER - COMIRNATY                       Novo PNI   \n",
       "...                                        ...                            ...   \n",
       "390881             COVID-19 PFIZER - COMIRNATY                       Novo PNI   \n",
       "390885  COVID-19 PFIZER - COMIRNATY PEDIÁTRICA  ESUS APS - NACIONAL (OFFLINE)   \n",
       "390892             COVID-19 PFIZER - COMIRNATY                       Novo PNI   \n",
       "390894   COVID-19 SINOVAC/BUTANTAN - CORONAVAC                       Novo PNI   \n",
       "390907             COVID-19 PFIZER - COMIRNATY                       Novo PNI   \n",
       "\n",
       "       idade  \n",
       "0         14  \n",
       "2          5  \n",
       "10        13  \n",
       "11         7  \n",
       "13        19  \n",
       "...      ...  \n",
       "390881    16  \n",
       "390885    10  \n",
       "390892    20  \n",
       "390894    14  \n",
       "390907    15  \n",
       "\n",
       "[79220 rows x 33 columns]"
      ]
     },
     "execution_count": 149,
     "metadata": {},
     "output_type": "execute_result"
    }
   ],
   "source": [
    "# 1)# Criar uma cópia do DataFrame original contendo somente vacinas aplicadas a menores de 18 anos\n",
    "df_menores_18 = df[df['paciente_idade'] < 18].copy()\n",
    "df_menores_18"
   ]
  },
  {
   "cell_type": "code",
   "execution_count": 150,
   "metadata": {
    "id": "sLyevPRBC8-8"
   },
   "outputs": [
    {
     "name": "stdout",
     "output_type": "stream",
     "text": [
      "Colunas do DataFrame: Index(['document_id', 'paciente_id', 'paciente_idade',\n",
      "       'paciente_dataNascimento', 'paciente_enumSexoBiologico',\n",
      "       'paciente_racaCor_codigo', 'paciente_racaCor_valor',\n",
      "       'paciente_endereco_coIbgeMunicipio', 'paciente_endereco_coPais',\n",
      "       'paciente_endereco_nmMunicipio', 'paciente_endereco_nmPais',\n",
      "       'paciente_endereco_uf', 'paciente_endereco_cep',\n",
      "       'paciente_nacionalidade_enumNacionalidade', 'estabelecimento_valor',\n",
      "       'estabelecimento_razaoSocial', 'estalecimento_noFantasia',\n",
      "       'estabelecimento_municipio_codigo', 'estabelecimento_municipio_nome',\n",
      "       'estabelecimento_uf', 'vacina_grupoAtendimento_codigo',\n",
      "       'vacina_grupoAtendimento_nome', 'vacina_categoria_codigo',\n",
      "       'vacina_categoria_nome', 'vacina_lote', 'vacina_fabricante_nome',\n",
      "       'vacina_fabricante_referencia', 'vacina_dataAplicacao',\n",
      "       'vacina_descricao_dose', 'vacina_codigo', 'vacina_nome',\n",
      "       'sistema_origem', 'idade'],\n",
      "      dtype='object')\n"
     ]
    }
   ],
   "source": [
    "# 2) Exibir as colunas do DataFrame\n",
    "colunas_df = df_menores_18.columns\n",
    "print(\"Colunas do DataFrame:\", colunas_df)\n"
   ]
  },
  {
   "cell_type": "code",
   "execution_count": 151,
   "metadata": {
    "id": "lZAW-Dp8C8-8"
   },
   "outputs": [
    {
     "name": "stdout",
     "output_type": "stream",
     "text": [
      "Contagem por categoria de vacina: vacina_categoria_nome\n",
      "Faixa Etária                                      49015\n",
      "Povos Indígenas                                    4934\n",
      "Outros                                             3755\n",
      "Povos e Comunidades Tradicionais                    875\n",
      "Trabalhadores de Saúde                              264\n",
      "Comorbidades                                         58\n",
      "População Privada de Liberdade                       53\n",
      "Gestantes                                            47\n",
      "Trabalhadores da Educação                            14\n",
      "Trabalhadores de Transporte                          13\n",
      "Pessoas com Deficiência                              11\n",
      "Pessoas Institucionalizadas                           3\n",
      "Pessoas de 60 anos ou mais institucionalizadas        1\n",
      "Puérperas                                             1\n",
      "Name: count, dtype: int64\n"
     ]
    }
   ],
   "source": [
    "# 3) Contar as vacinas aplicadas por categoria\n",
    "contagem_vacina_categoria = df_menores_18['vacina_categoria_nome'].value_counts()\n",
    "print(\"Contagem por categoria de vacina:\", contagem_vacina_categoria)\n"
   ]
  },
  {
   "cell_type": "code",
   "execution_count": 152,
   "metadata": {
    "id": "xxYsxrxAC8-8"
   },
   "outputs": [
    {
     "data": {
      "text/plain": [
       "['estabelecimento_valor',\n",
       " 'estabelecimento_razaoSocial',\n",
       " 'estabelecimento_municipio_nome',\n",
       " 'estabelecimento_uf']"
      ]
     },
     "execution_count": 152,
     "metadata": {},
     "output_type": "execute_result"
    }
   ],
   "source": [
    "# 4)Selecionar somente as colunas referentes ao estabelecimento\n",
    "colunas_estabelecimento = [\n",
    "    'estabelecimento_valor', 'estabelecimento_razaoSocial', \n",
    "    'estabelecimento_municipio_nome', 'estabelecimento_uf'\n",
    "]\n",
    "colunas_estabelecimento"
   ]
  },
  {
   "cell_type": "code",
   "execution_count": 153,
   "metadata": {
    "id": "vaX2x_0rC8-8"
   },
   "outputs": [
    {
     "data": {
      "text/html": [
       "<div>\n",
       "<style scoped>\n",
       "    .dataframe tbody tr th:only-of-type {\n",
       "        vertical-align: middle;\n",
       "    }\n",
       "\n",
       "    .dataframe tbody tr th {\n",
       "        vertical-align: top;\n",
       "    }\n",
       "\n",
       "    .dataframe thead th {\n",
       "        text-align: right;\n",
       "    }\n",
       "</style>\n",
       "<table border=\"1\" class=\"dataframe\">\n",
       "  <thead>\n",
       "    <tr style=\"text-align: right;\">\n",
       "      <th></th>\n",
       "      <th>estabelecimento_valor</th>\n",
       "      <th>estabelecimento_razaoSocial</th>\n",
       "      <th>estabelecimento_municipio_nome</th>\n",
       "      <th>estabelecimento_uf</th>\n",
       "    </tr>\n",
       "  </thead>\n",
       "  <tbody>\n",
       "    <tr>\n",
       "      <th>0</th>\n",
       "      <td>2002922</td>\n",
       "      <td>SECRETARIA MUNICIPAL DE SAUDE</td>\n",
       "      <td>PLACIDO DE CASTRO</td>\n",
       "      <td>AC</td>\n",
       "    </tr>\n",
       "    <tr>\n",
       "      <th>2</th>\n",
       "      <td>2000482</td>\n",
       "      <td>PREFEITURA MUNICIPAL DE RIO BRANCO</td>\n",
       "      <td>RIO BRANCO</td>\n",
       "      <td>AC</td>\n",
       "    </tr>\n",
       "    <tr>\n",
       "      <th>10</th>\n",
       "      <td>6917291</td>\n",
       "      <td>PREFEITURA MUNICIPAL DE RIO BRANCO</td>\n",
       "      <td>RIO BRANCO</td>\n",
       "      <td>AC</td>\n",
       "    </tr>\n",
       "    <tr>\n",
       "      <th>11</th>\n",
       "      <td>2002132</td>\n",
       "      <td>PREFEITURA MUN DE MAL THAUMATURGO</td>\n",
       "      <td>MARECHAL THAUMATURGO</td>\n",
       "      <td>AC</td>\n",
       "    </tr>\n",
       "    <tr>\n",
       "      <th>13</th>\n",
       "      <td>6159087</td>\n",
       "      <td>PREFEITURA MUNICIPAL DE CRUZEIRO DO SUL</td>\n",
       "      <td>CRUZEIRO DO SUL</td>\n",
       "      <td>AC</td>\n",
       "    </tr>\n",
       "    <tr>\n",
       "      <th>...</th>\n",
       "      <td>...</td>\n",
       "      <td>...</td>\n",
       "      <td>...</td>\n",
       "      <td>...</td>\n",
       "    </tr>\n",
       "    <tr>\n",
       "      <th>390881</th>\n",
       "      <td>2000660</td>\n",
       "      <td>PREFEITURA MUNICIPAL DE SENADOR GUIOMARD</td>\n",
       "      <td>SENADOR GUIOMARD</td>\n",
       "      <td>AC</td>\n",
       "    </tr>\n",
       "    <tr>\n",
       "      <th>390885</th>\n",
       "      <td>5354072</td>\n",
       "      <td>PREFEITURA MUNICIPAL DE JORDAO</td>\n",
       "      <td>JORDAO</td>\n",
       "      <td>AC</td>\n",
       "    </tr>\n",
       "    <tr>\n",
       "      <th>390892</th>\n",
       "      <td>6934013</td>\n",
       "      <td>PREFEITURA MUNICIPAL DE FEIJO</td>\n",
       "      <td>FEIJO</td>\n",
       "      <td>AC</td>\n",
       "    </tr>\n",
       "    <tr>\n",
       "      <th>390894</th>\n",
       "      <td>2001225</td>\n",
       "      <td>PREFEITURA MUNICIPAL DE XAPURI</td>\n",
       "      <td>XAPURI</td>\n",
       "      <td>AC</td>\n",
       "    </tr>\n",
       "    <tr>\n",
       "      <th>390907</th>\n",
       "      <td>6917291</td>\n",
       "      <td>PREFEITURA MUNICIPAL DE RIO BRANCO</td>\n",
       "      <td>RIO BRANCO</td>\n",
       "      <td>AC</td>\n",
       "    </tr>\n",
       "  </tbody>\n",
       "</table>\n",
       "<p>79220 rows × 4 columns</p>\n",
       "</div>"
      ],
      "text/plain": [
       "        estabelecimento_valor               estabelecimento_razaoSocial  \\\n",
       "0                     2002922             SECRETARIA MUNICIPAL DE SAUDE   \n",
       "2                     2000482        PREFEITURA MUNICIPAL DE RIO BRANCO   \n",
       "10                    6917291        PREFEITURA MUNICIPAL DE RIO BRANCO   \n",
       "11                    2002132         PREFEITURA MUN DE MAL THAUMATURGO   \n",
       "13                    6159087   PREFEITURA MUNICIPAL DE CRUZEIRO DO SUL   \n",
       "...                       ...                                       ...   \n",
       "390881                2000660  PREFEITURA MUNICIPAL DE SENADOR GUIOMARD   \n",
       "390885                5354072            PREFEITURA MUNICIPAL DE JORDAO   \n",
       "390892                6934013             PREFEITURA MUNICIPAL DE FEIJO   \n",
       "390894                2001225            PREFEITURA MUNICIPAL DE XAPURI   \n",
       "390907                6917291        PREFEITURA MUNICIPAL DE RIO BRANCO   \n",
       "\n",
       "       estabelecimento_municipio_nome estabelecimento_uf  \n",
       "0                   PLACIDO DE CASTRO                 AC  \n",
       "2                          RIO BRANCO                 AC  \n",
       "10                         RIO BRANCO                 AC  \n",
       "11               MARECHAL THAUMATURGO                 AC  \n",
       "13                    CRUZEIRO DO SUL                 AC  \n",
       "...                               ...                ...  \n",
       "390881               SENADOR GUIOMARD                 AC  \n",
       "390885                         JORDAO                 AC  \n",
       "390892                          FEIJO                 AC  \n",
       "390894                         XAPURI                 AC  \n",
       "390907                     RIO BRANCO                 AC  \n",
       "\n",
       "[79220 rows x 4 columns]"
      ]
     },
     "execution_count": 153,
     "metadata": {},
     "output_type": "execute_result"
    }
   ],
   "source": [
    "# 5)Usar .loc para selecionar essas colunas no DataFrame\n",
    "df_estabelecimentos = df_menores_18.loc[:, colunas_estabelecimento].copy()\n",
    "df_estabelecimentos"
   ]
  },
  {
   "cell_type": "code",
   "execution_count": 154,
   "metadata": {},
   "outputs": [
    {
     "name": "stdout",
     "output_type": "stream",
     "text": [
      "        estabelecimento_valor                 estabelecimento_razaoSocial  \\\n",
      "0                     2002922               SECRETARIA MUNICIPAL DE SAUDE   \n",
      "2                     2000482          PREFEITURA MUNICIPAL DE RIO BRANCO   \n",
      "10                    6917291          PREFEITURA MUNICIPAL DE RIO BRANCO   \n",
      "11                    2002132           PREFEITURA MUN DE MAL THAUMATURGO   \n",
      "13                    6159087     PREFEITURA MUNICIPAL DE CRUZEIRO DO SUL   \n",
      "...                       ...                                         ...   \n",
      "180967                2001330      PREFEITURA MUNICIPAL DE EPITACIOLANDIA   \n",
      "188904                2001357  SECRETARIA MUNICIPAL DE SAUDE DE BRASILEIA   \n",
      "253751                 783722               SECRETARIA MUNICIPAL DE SAUDE   \n",
      "322722                6411312   PREFEITURA MUNICIPAL DE PLACIDO DE CASTRO   \n",
      "365043                2832798      PREFEITURA MUNICIPAL DE EPITACIOLANDIA   \n",
      "\n",
      "       estabelecimento_municipio_nome estabelecimento_uf  quantidade_vacinas  \n",
      "0                   PLACIDO DE CASTRO                 AC                1388  \n",
      "2                          RIO BRANCO                 AC                 342  \n",
      "10                         RIO BRANCO                 AC               25593  \n",
      "11               MARECHAL THAUMATURGO                 AC                2090  \n",
      "13                    CRUZEIRO DO SUL                 AC                1819  \n",
      "...                               ...                ...                 ...  \n",
      "180967                 EPITACIOLANDIA                 AC                   2  \n",
      "188904                      BRASILEIA                 AC                   4  \n",
      "253751                RODRIGUES ALVES                 AC                   1  \n",
      "322722              PLACIDO DE CASTRO                 AC                   1  \n",
      "365043                 EPITACIOLANDIA                 AC                   1  \n",
      "\n",
      "[204 rows x 5 columns]\n"
     ]
    }
   ],
   "source": [
    "# 6)# Adicionar uma coluna para contar o número de vacinas aplicadas por estabelecimento\n",
    "df_estabelecimentos['quantidade_vacinas'] = df_menores_18.groupby('estabelecimento_valor')['estabelecimento_valor'].transform('count')\n",
    "\n",
    "# Remover duplicatas para ter uma linha por estabelecimento\n",
    "df_estabelecimentos_unicos = df_estabelecimentos.drop_duplicates(subset='estabelecimento_valor')\n",
    "\n",
    "# Exibir o DataFrame final com os dados dos estabelecimentos\n",
    "print(df_estabelecimentos_unicos)"
   ]
  }
 ],
 "metadata": {
  "colab": {
   "provenance": []
  },
  "kernelspec": {
   "display_name": "Python 3 (ipykernel)",
   "language": "python",
   "name": "python3"
  },
  "language_info": {
   "codemirror_mode": {
    "name": "ipython",
    "version": 3
   },
   "file_extension": ".py",
   "mimetype": "text/x-python",
   "name": "python",
   "nbconvert_exporter": "python",
   "pygments_lexer": "ipython3",
   "version": "3.12.4"
  },
  "toc": {
   "base_numbering": 1,
   "nav_menu": {},
   "number_sections": false,
   "sideBar": true,
   "skip_h1_title": true,
   "title_cell": "Índice",
   "title_sidebar": "Conteúdo",
   "toc_cell": false,
   "toc_position": {},
   "toc_section_display": true,
   "toc_window_display": false
  },
  "varInspector": {
   "cols": {
    "lenName": 16,
    "lenType": 16,
    "lenVar": 40
   },
   "kernels_config": {
    "python": {
     "delete_cmd_postfix": "",
     "delete_cmd_prefix": "del ",
     "library": "var_list.py",
     "varRefreshCmd": "print(var_dic_list())"
    },
    "r": {
     "delete_cmd_postfix": ") ",
     "delete_cmd_prefix": "rm(",
     "library": "var_list.r",
     "varRefreshCmd": "cat(var_dic_list()) "
    }
   },
   "types_to_exclude": [
    "module",
    "function",
    "builtin_function_or_method",
    "instance",
    "_Feature"
   ],
   "window_display": false
  }
 },
 "nbformat": 4,
 "nbformat_minor": 4
}
