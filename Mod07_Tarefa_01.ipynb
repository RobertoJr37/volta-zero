{
 "cells": [
  {
   "cell_type": "markdown",
   "metadata": {
    "id": "d8yCrvnM_2sd"
   },
   "source": [
    "# Módulo 07, Tarefa 01\n",
    "\n",
    "Vamos começar a mexer na nossa base de projeto? Já fizemos um exercício de montar a variável resposta, já pudemos perceber que essa atividade pode não ser trivial. Vamos agora trabalhar a base para que fique propícia ao *scikitlearn* para trabalharmos.\n",
    "\n",
    "Lembrando, a base se chama demo01.csv, e originalmente está publicada [aqui](https://www.kaggle.com/rikdifos/credit-card-approval-prediction)."
   ]
  },
  {
   "cell_type": "markdown",
   "metadata": {
    "id": "hcMBVVE8_2sg"
   },
   "source": [
    "#### 1) Carregue a base e avalie:\n",
    "\n",
    "- As variáveis\n",
    "- Tipos de dados de cada variável\n",
    "- Quantidade de missings\n",
    "- Distribuição da variável resposta (mau)"
   ]
  },
  {
   "cell_type": "code",
   "execution_count": 1,
   "metadata": {
    "id": "jfUxW_PX_2sh"
   },
   "outputs": [
    {
     "name": "stdout",
     "output_type": "stream",
     "text": [
      "Informações sobre as variáveis e tipos de dados:\n",
      "<class 'pandas.core.frame.DataFrame'>\n",
      "RangeIndex: 16650 entries, 0 to 16649\n",
      "Data columns (total 16 columns):\n",
      " #   Column                 Non-Null Count  Dtype  \n",
      "---  ------                 --------------  -----  \n",
      " 0   sexo                   16650 non-null  object \n",
      " 1   posse_de_veiculo       16650 non-null  object \n",
      " 2   posse_de_imovel        16650 non-null  object \n",
      " 3   qtd_filhos             16650 non-null  int64  \n",
      " 4   tipo_renda             16650 non-null  object \n",
      " 5   educacao               16650 non-null  object \n",
      " 6   estado_civil           16650 non-null  object \n",
      " 7   tipo_residencia        16650 non-null  object \n",
      " 8   idade                  16650 non-null  float64\n",
      " 9   tempo_emprego          16650 non-null  float64\n",
      " 10  possui_celular         16650 non-null  int64  \n",
      " 11  possui_fone_comercial  16650 non-null  int64  \n",
      " 12  possui_fone            16650 non-null  int64  \n",
      " 13  possui_email           16650 non-null  int64  \n",
      " 14  qt_pessoas_residencia  16650 non-null  float64\n",
      " 15  mau                    16650 non-null  bool   \n",
      "dtypes: bool(1), float64(3), int64(5), object(7)\n",
      "memory usage: 1.9+ MB\n",
      "None\n",
      "\n",
      "Quantidade de valores ausentes por coluna:\n",
      "sexo                     0\n",
      "posse_de_veiculo         0\n",
      "posse_de_imovel          0\n",
      "qtd_filhos               0\n",
      "tipo_renda               0\n",
      "educacao                 0\n",
      "estado_civil             0\n",
      "tipo_residencia          0\n",
      "idade                    0\n",
      "tempo_emprego            0\n",
      "possui_celular           0\n",
      "possui_fone_comercial    0\n",
      "possui_fone              0\n",
      "possui_email             0\n",
      "qt_pessoas_residencia    0\n",
      "mau                      0\n",
      "dtype: int64\n",
      "\n",
      "Distribuição da variável resposta (mau):\n",
      "mau\n",
      "False    16260\n",
      "True       390\n",
      "Name: count, dtype: int64\n"
     ]
    }
   ],
   "source": [
    "import pandas as pd\n",
    "\n",
    "# Carregar o dataset\n",
    "df = pd.read_csv('demo01.csv')\n",
    "\n",
    "# Avaliar as variáveis e os tipos de dados\n",
    "print(\"Informações sobre as variáveis e tipos de dados:\")\n",
    "print(df.info())\n",
    "\n",
    "# Verificar a quantidade de valores ausentes\n",
    "print(\"\\nQuantidade de valores ausentes por coluna:\")\n",
    "print(df.isnull().sum())\n",
    "\n",
    "# Distribuição da variável resposta 'mau'\n",
    "print(\"\\nDistribuição da variável resposta (mau):\")\n",
    "print(df['mau'].value_counts())\n"
   ]
  },
  {
   "cell_type": "markdown",
   "metadata": {
    "id": "_v0f02mE_2si"
   },
   "source": [
    "#### 2) Vamos montar um metadados\n",
    "\n",
    "1. Crie um dataframe com os nomes de cada variável e o tipo de dados de cada variável.\n",
    "2. Adicione uma coluna nesse *dataframe* chamada \"qtd_categorias\" e coloque nela o número de categorias correspondente de cada variável.\n",
    "    Dica:\n",
    "        1. inicie uma lista vazia\n",
    "        2. faça um for ao longo dos nomes das variáveis,\n",
    "        3. conte o número de categorias dessa variável\n",
    "        4. acumule essa informação de 3. na lista que você criou em 1.\n",
    "        5. No final, essa lista pode ser atribuída à nossa variável."
   ]
  },
  {
   "cell_type": "code",
   "execution_count": 3,
   "metadata": {
    "id": "gNF5BRdA_2si"
   },
   "outputs": [
    {
     "name": "stdout",
     "output_type": "stream",
     "text": [
      "                               nome_variavel tipo_dado  qtd_categorias\n",
      "sexo                                    sexo    object             2.0\n",
      "posse_de_veiculo            posse_de_veiculo    object             2.0\n",
      "posse_de_imovel              posse_de_imovel    object             2.0\n",
      "qtd_filhos                        qtd_filhos     int64             NaN\n",
      "tipo_renda                        tipo_renda    object             5.0\n",
      "educacao                            educacao    object             5.0\n",
      "estado_civil                    estado_civil    object             5.0\n",
      "tipo_residencia              tipo_residencia    object             6.0\n",
      "idade                                  idade   float64             NaN\n",
      "tempo_emprego                  tempo_emprego   float64             NaN\n",
      "possui_celular                possui_celular     int64             NaN\n",
      "possui_fone_comercial  possui_fone_comercial     int64             NaN\n",
      "possui_fone                      possui_fone     int64             NaN\n",
      "possui_email                    possui_email     int64             NaN\n",
      "qt_pessoas_residencia  qt_pessoas_residencia   float64             NaN\n",
      "mau                                      mau      bool             2.0\n"
     ]
    }
   ],
   "source": [
    "# Criar um DataFrame com os nomes das variáveis e os tipos de dados\n",
    "meta_dados = pd.DataFrame({\n",
    "    'nome_variavel': df.columns,\n",
    "    'tipo_dado': df.dtypes.astype(str)\n",
    "})\n",
    "\n",
    "# Inicializar uma lista vazia para armazenar a quantidade de categorias de cada variável\n",
    "qtd_categorias = []\n",
    "\n",
    "# Iterar ao longo das variáveis e contar o número de categorias para cada uma\n",
    "for coluna in df.columns:\n",
    "    # Se a variável for categórica (object ou bool), contar as categorias\n",
    "    if df[coluna].dtype == 'object' or df[coluna].dtype == 'bool':\n",
    "        qtd_categorias.append(df[coluna].nunique())\n",
    "    else:\n",
    "        qtd_categorias.append(None)  # Variáveis não categóricas recebem None\n",
    "\n",
    "# Adicionar a lista como uma nova coluna no DataFrame de metadados\n",
    "meta_dados['qtd_categorias'] = qtd_categorias\n",
    "\n",
    "# Exibir o DataFrame de metadados\n",
    "print(meta_dados)"
   ]
  },
  {
   "cell_type": "markdown",
   "metadata": {
    "id": "h0XKJFhY_2si"
   },
   "source": [
    "#### 3) Crie variáveis dummy para as variáveis necessárias (i.e. aquelas que são qualitativas e não estão armazenadas como {0, 1} ou {True, False}. Crie um *dataframe* apenas com as variáveis apropriadas para entrada no scikitlearn - elimine as variáveis tipo *str*, mantendo apenas suas versões *dummy*."
   ]
  },
  {
   "cell_type": "code",
   "execution_count": 5,
   "metadata": {
    "id": "ePbdZDOi_2sj"
   },
   "outputs": [
    {
     "name": "stdout",
     "output_type": "stream",
     "text": [
      "   qtd_filhos      idade  tempo_emprego  possui_celular  \\\n",
      "0           0  58.832877       3.106849               1   \n",
      "1           0  52.356164       8.358904               1   \n",
      "2           0  52.356164       8.358904               1   \n",
      "3           0  46.224658       2.106849               1   \n",
      "4           0  29.230137       3.021918               1   \n",
      "\n",
      "   possui_fone_comercial  possui_fone  possui_email  qt_pessoas_residencia  \\\n",
      "0                      0            0             0                    2.0   \n",
      "1                      0            1             1                    1.0   \n",
      "2                      0            1             1                    1.0   \n",
      "3                      1            1             1                    2.0   \n",
      "4                      0            0             0                    2.0   \n",
      "\n",
      "     mau  sexo_M  ...  educacao_Secondary / secondary special  \\\n",
      "0  False    True  ...                                    True   \n",
      "1  False   False  ...                                    True   \n",
      "2  False   False  ...                                    True   \n",
      "3  False    True  ...                                   False   \n",
      "4  False   False  ...                                   False   \n",
      "\n",
      "   estado_civil_Married  estado_civil_Separated  \\\n",
      "0                  True                   False   \n",
      "1                 False                   False   \n",
      "2                 False                   False   \n",
      "3                  True                   False   \n",
      "4                  True                   False   \n",
      "\n",
      "   estado_civil_Single / not married  estado_civil_Widow  \\\n",
      "0                              False               False   \n",
      "1                               True               False   \n",
      "2                               True               False   \n",
      "3                              False               False   \n",
      "4                              False               False   \n",
      "\n",
      "   tipo_residencia_House / apartment  tipo_residencia_Municipal apartment  \\\n",
      "0                               True                                False   \n",
      "1                               True                                False   \n",
      "2                               True                                False   \n",
      "3                               True                                False   \n",
      "4                               True                                False   \n",
      "\n",
      "   tipo_residencia_Office apartment  tipo_residencia_Rented apartment  \\\n",
      "0                             False                             False   \n",
      "1                             False                             False   \n",
      "2                             False                             False   \n",
      "3                             False                             False   \n",
      "4                             False                             False   \n",
      "\n",
      "   tipo_residencia_With parents  \n",
      "0                         False  \n",
      "1                         False  \n",
      "2                         False  \n",
      "3                         False  \n",
      "4                         False  \n",
      "\n",
      "[5 rows x 29 columns]\n"
     ]
    }
   ],
   "source": [
    "# Identificar variáveis que precisam de dummies (variáveis qualitativas não numéricas)\n",
    "# Excluir variáveis numéricas e booleanas\n",
    "variaveis_categoricas = df.select_dtypes(include=['object']).columns\n",
    "\n",
    "# Criar variáveis dummies para as variáveis categóricas\n",
    "df_dummies = pd.get_dummies(df, columns=variaveis_categoricas, drop_first=True)\n",
    "\n",
    "# Eliminar as variáveis tipo string e manter apenas as versões dummy no DataFrame final\n",
    "df_final = df_dummies\n",
    "\n",
    "# Exibir o DataFrame final apropriado para o scikit-learn\n",
    "print(df_final.head())"
   ]
  },
  {
   "cell_type": "markdown",
   "metadata": {
    "id": "uhaqFcPE_2sj"
   },
   "source": [
    "#### 4) Qual variável é mais poderosa?\n",
    "\n",
    "Considere as variáveis ```possui_email``` e ```posse_de_veiculo```. Faça uma tabela cruzada entre elas e responda qual delas te parece mais poderosa para prever a probabilidade de ```mau = 1```?"
   ]
  },
  {
   "cell_type": "code",
   "execution_count": 15,
   "metadata": {
    "id": "3wUAHc_-_2sj"
   },
   "outputs": [
    {
     "name": "stdout",
     "output_type": "stream",
     "text": [
      "Tabela cruzada entre possui_email, posse_de_veiculo e a proporção de 'mau = 1':\n",
      "posse_de_veiculo         N         Y\n",
      "possui_email                        \n",
      "0                 0.024944  0.021788\n",
      "1                 0.016726  0.024883\n"
     ]
    }
   ],
   "source": [
    "# Criar uma tabela cruzada entre 'possui_email', 'posse_de_veiculo' e a variável resposta 'mau'\n",
    "tabela_cruzada = pd.crosstab(index=df['possui_email'], columns=df['posse_de_veiculo'], values=df['mau'], aggfunc='mean')\n",
    "\n",
    "# Exibir a tabela cruzada\n",
    "print(\"Tabela cruzada entre possui_email, posse_de_veiculo e a proporção de 'mau = 1':\")\n",
    "print(tabela_cruzada)\n",
    "# A variável possui_email parece ser mais importante para prever a inadimplência, já que quem não tem email tem uma taxa maior de \"mau\"."
   ]
  },
  {
   "cell_type": "markdown",
   "metadata": {
    "id": "G2Issl2e_2sj"
   },
   "source": [
    "#### 5) Salve a base, pois ela será utilizada no final deste módulo."
   ]
  },
  {
   "cell_type": "code",
   "execution_count": 13,
   "metadata": {
    "id": "KSEj8OL9_2sk"
   },
   "outputs": [],
   "source": [
    "# Salvar o DataFrame preparado para uso posterior\n",
    "df_final.to_csv('base_preparada_para_scikitlearn.csv', index=False)"
   ]
  }
 ],
 "metadata": {
  "colab": {
   "provenance": []
  },
  "kernelspec": {
   "display_name": "Python 3 (ipykernel)",
   "language": "python",
   "name": "python3"
  },
  "language_info": {
   "codemirror_mode": {
    "name": "ipython",
    "version": 3
   },
   "file_extension": ".py",
   "mimetype": "text/x-python",
   "name": "python",
   "nbconvert_exporter": "python",
   "pygments_lexer": "ipython3",
   "version": "3.12.4"
  }
 },
 "nbformat": 4,
 "nbformat_minor": 4
}
