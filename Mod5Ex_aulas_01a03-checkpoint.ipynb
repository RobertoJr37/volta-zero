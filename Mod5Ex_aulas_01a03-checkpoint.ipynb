{
 "cells": [
  {
   "cell_type": "markdown",
   "metadata": {},
   "source": [
    "# Módulo 5 Tarefa 1\n",
    "## Base de nascidos vivos do DataSUS\n",
    "O DataSUS disponibiliza diversos arquivos de dados com relação a seus segurados, conforme a [lei da transparência de informações públicas](https://www.sisgov.com/transparencia-acesso-informacao/#:~:text=A%20Lei%20da%20Transpar%C3%AAncia%20(LC,em%20um%20site%20na%20internet.). \n",
    "\n",
    "Essas informações podem ser obtidas pela internet [aqui](http://www2.datasus.gov.br/DATASUS/index.php?area=0901&item=1). Como o processo de obtenção desses arquivos foge um pouco do nosso escopo, deixamos o arquivo SINASC_RO_2019.csv` já como vai ser encontrado no DataSUS. O dicionário de dados está no arquivo `estrutura_sinasc_para_CD.pdf` (o nome do arquivo tal qual no portal do DataSUS).\n",
    "\n",
    "### Nosso objetivo\n",
    "Queremos deixar uma base organizada para podermos estudar a relação entre partos com risco para o bebê e algumas condições como tempo de parto, consultas de pré-natal etc.\n",
    "\n",
    "#### Preparação da base\n",
    "1. Carregue a base 'SINASC_RO_2019.csv'. Conte o número de registros e o número de registros não duplicados da base. Dica: você aprendeu um método que remove duplicados, encadeie este método com um outro método que conta o número de linhas. **Há linhas duplicadas?**  \n",
    "\n",
    "2. Conte o número de valores *missing* por variável.  \n",
    "\n",
    "3. Ok, no item anterior você deve ter achado pouco prático ler a informação de tantas variáveis, muitas delas nem devem ser interesantes. Então crie uma seleção dessa base somente com as colunas que interessam. São elas:\n",
    "` \n",
    "['LOCNASC', 'IDADEMAE', 'ESTCIVMAE', 'ESCMAE', 'QTDFILVIVO', \n",
    "    'GESTACAO', 'GRAVIDEZ', 'CONSULTAS', 'APGAR5'] \n",
    "`\n",
    "Refaça a contagem de valores *missings*.  \n",
    "\n",
    "4. Apgar é uma *nota* que o pediatra dá ao bebê quando nasce de acordo com algumas características associadas principalmente à respiração. Apgar 1 e Apgar 5 são as notas 1 e 5 minutos do nascimento. Apgar5 será a nossa variável de interesse principal. Então remova todos os registros com Apgar5 não preenchido. Para esta seleção, conte novamente o número de linhas e o número de *missings*.  \n",
    "\n",
    "5. observe que as variáveis `['ESTCIVMAE', 'CONSULTAS']` possuem o código `9`, que significa *ignorado*. Vamos assumir que o não preenchido é o mesmo que o código `9`.<br>\n",
    "6. Substitua os valores faltantes da quantitativa (`QTDFILVIVO`) por zero.  \n",
    "7. Das restantes, decida que valore te parece mais adequado (um 'não preenchido' ou um valor 'mais provável' como no item anterior) e preencha. Justifique. Lembre-se de que tratamento de dados é trabalho do cientista, e que estamos tomando decisões a todo o momento - não há necessariamente certo e errado aqui.  \n",
    "8. O Apgar possui uma classificação indicando se o bebê passou por asfixia:\n",
    "- Entre 8 e 10 está em uma faixa 'normal'. \n",
    "- Entre 6 e 7, significa que o recém-nascido passou por 'asfixia leve'. \n",
    "- Entre 4 e 5 significa 'asfixia moderada'.\n",
    "- Entre 0 e 3 significa 'asfixia severa'.  \n",
    "\n",
    "Crie uma categorização dessa variável com essa codificação e calcule as frequências dessa categorização.  \n",
    "<br>\n",
    "9. Renomeie as variáveis para que fiquem no *snake case*, ou seja, em letras minúsculas, com um *underscore* entre as palávras. Dica: repare que se você não quiser criar um *dataframe* novo, você vai precisar usar a opção `inplace = True`."
   ]
  },
  {
   "cell_type": "code",
   "execution_count": null,
   "metadata": {},
   "outputs": [],
   "source": [
    "import pandas as pd\n",
    "import requests\n",
    "\n",
    "# 1) seu código aqui\n",
    "sinasc = pd.read_csv('SINASC_RO_2019.csv')\n",
    "print(sinasc.shape)\n",
    "sinasc.drop_duplicates().shape\n",
    "# Não há duplicados"
   ]
  },
  {
   "cell_type": "code",
   "execution_count": null,
   "metadata": {},
   "outputs": [],
   "source": [
    "# 2)Contagem de valores missing por variável\n",
    "valores_missing = sinasc.isnull().sum()\n",
    "print(valores_missing)\n",
    "\n"
   ]
  },
  {
   "cell_type": "code",
   "execution_count": null,
   "metadata": {},
   "outputs": [],
   "source": [
    "# 3) # Selecionar as colunas relevantes\n",
    "colunas_interessantes = ['LOCNASC', 'IDADEMAE', 'ESTCIVMAE', 'ESCMAE', 'QTDFILVIVO', 'GESTACAO', 'GRAVIDEZ', 'CONSULTAS', 'APGAR5']\n",
    "sinasc_selecionado = sinasc[colunas_interessantes]\n",
    "\n",
    "# Contagem de valores missing nas colunas selecionadas\n",
    "valores_missing_selecionado = sinasc_selecionado.isnull().sum()\n",
    "print(valores_missing_selecionado)\n",
    "\n"
   ]
  },
  {
   "cell_type": "code",
   "execution_count": null,
   "metadata": {},
   "outputs": [],
   "source": [
    "# 4) # Remover registros com APGAR5 missing\n",
    "sinasc_limpo = sinasc_selecionado.dropna(subset=['APGAR5'])\n",
    "\n",
    "# Contar número de linhas após a remoção e missing restantes\n",
    "linhas_restantes = sinasc_limpo.shape[0]\n",
    "print(f'Registros após remoção de APGAR5 faltante: {linhas_restantes}')\n",
    "\n",
    "missing_restante = sinasc_limpo.isnull().sum()\n",
    "print(missing_restante)"
   ]
  },
  {
   "cell_type": "code",
   "execution_count": 26,
   "metadata": {},
   "outputs": [],
   "source": [
    "# 5) # Substituir código 9 por NaN usando .loc para evitar o warning\n",
    "sinasc_limpo.loc[:, 'ESTCIVMAE'] = sinasc_limpo['ESTCIVMAE'].replace(9, pd.NA)\n",
    "sinasc_limpo.loc[:, 'CONSULTAS'] = sinasc_limpo['CONSULTAS'].replace(9, pd.NA)\n",
    "\n"
   ]
  },
  {
   "cell_type": "code",
   "execution_count": 30,
   "metadata": {},
   "outputs": [],
   "source": [
    "# 6) # Substituir valores missing de QTDFILVIVO por zero\n",
    "sinasc_limpo.loc[:, 'QTDFILVIVO'] = sinasc_limpo['QTDFILVIVO'].fillna(0)\n"
   ]
  },
  {
   "cell_type": "code",
   "execution_count": 34,
   "metadata": {},
   "outputs": [],
   "source": [
    "# 7)# Preencher missing em variáveis categóricas com a moda usando .loc\n",
    "sinasc_limpo.loc[:, 'LOCNASC'] = sinasc_limpo['LOCNASC'].fillna(sinasc_limpo['LOCNASC'].mode()[0])\n",
    "sinasc_limpo.loc[:, 'ESCMAE'] = sinasc_limpo['ESCMAE'].fillna(sinasc_limpo['ESCMAE'].mode()[0])\n",
    "\n",
    "# Preencher missing em variáveis contínuas com a mediana usando .loc\n",
    "sinasc_limpo.loc[:, 'IDADEMAE'] = sinasc_limpo['IDADEMAE'].fillna(sinasc_limpo['IDADEMAE'].median())\n",
    "\n",
    "# Para as variáveis categóricas como GESTACAO e GRAVIDEZ, preencher com a moda\n",
    "sinasc_limpo.loc[:, 'GESTACAO'] = sinasc_limpo['GESTACAO'].fillna(sinasc_limpo['GESTACAO'].mode()[0])\n",
    "sinasc_limpo.loc[:, 'GRAVIDEZ'] = sinasc_limpo['GRAVIDEZ'].fillna(sinasc_limpo['GRAVIDEZ'].mode()[0])\n",
    "\n"
   ]
  },
  {
   "cell_type": "code",
   "execution_count": 38,
   "metadata": {},
   "outputs": [
    {
     "name": "stdout",
     "output_type": "stream",
     "text": [
      "APGAR5_CAT\n",
      "normal              26463\n",
      "asfixia leve          320\n",
      "asfixia severa         74\n",
      "asfixia moderada       68\n",
      "Name: count, dtype: int64\n"
     ]
    }
   ],
   "source": [
    "# 8) # Função para categorizar Apgar5\n",
    "def categorizar_apgar5(apgar):\n",
    "    if apgar >= 8:\n",
    "        return 'normal'\n",
    "    elif 6 <= apgar <= 7:\n",
    "        return 'asfixia leve'\n",
    "    elif 4 <= apgar <= 5:\n",
    "        return 'asfixia moderada'\n",
    "    else:\n",
    "        return 'asfixia severa'\n",
    "\n",
    "# Aplicar a categorização usando .loc para evitar o warning\n",
    "sinasc_limpo.loc[:, 'APGAR5_CAT'] = sinasc_limpo['APGAR5'].apply(categorizar_apgar5)\n",
    "\n",
    "# Contar frequências de cada categoria\n",
    "frequencias_apgar5 = sinasc_limpo['APGAR5_CAT'].value_counts()\n",
    "print(frequencias_apgar5)\n",
    "\n"
   ]
  },
  {
   "cell_type": "code",
   "execution_count": 42,
   "metadata": {},
   "outputs": [
    {
     "name": "stdout",
     "output_type": "stream",
     "text": [
      "Index(['loc_nasc', 'idade_mae', 'est_civ_mae', 'esc_mae', 'qtd_fil_vivo',\n",
      "       'gestacao', 'gravidez', 'consultas', 'apgar5', 'APGAR5_CAT'],\n",
      "      dtype='object')\n"
     ]
    }
   ],
   "source": [
    "# 9) # Renomear colunas para snake case usando uma atribuição direta para evitar o warning\n",
    "sinasc_limpo = sinasc_limpo.rename(columns={\n",
    "    'LOCNASC': 'loc_nasc', \n",
    "    'IDADEMAE': 'idade_mae', \n",
    "    'ESTCIVMAE': 'est_civ_mae', \n",
    "    'ESCMAE': 'esc_mae', \n",
    "    'QTDFILVIVO': 'qtd_fil_vivo', \n",
    "    'GESTACAO': 'gestacao', \n",
    "    'GRAVIDEZ': 'gravidez', \n",
    "    'CONSULTAS': 'consultas', \n",
    "    'APGAR5': 'apgar5'\n",
    "})\n",
    "\n",
    "# Mostrar as colunas renomeadas\n",
    "print(sinasc_limpo.columns)\n"
   ]
  }
 ],
 "metadata": {
  "kernelspec": {
   "display_name": "Python 3 (ipykernel)",
   "language": "python",
   "name": "python3"
  },
  "language_info": {
   "codemirror_mode": {
    "name": "ipython",
    "version": 3
   },
   "file_extension": ".py",
   "mimetype": "text/x-python",
   "name": "python",
   "nbconvert_exporter": "python",
   "pygments_lexer": "ipython3",
   "version": "3.12.4"
  }
 },
 "nbformat": 4,
 "nbformat_minor": 4
}
