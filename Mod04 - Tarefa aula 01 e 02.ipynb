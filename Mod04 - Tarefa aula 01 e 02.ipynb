{
 "cells": [
  {
   "cell_type": "markdown",
   "metadata": {},
   "source": [
    "# Tarefa 01\n",
    "\n",
    "- Leia os enunciados com atenção\n",
    "- Saiba que pode haver mais de uma resposta correta\n",
    "- Insira novas células de código sempre que achar necessário\n",
    "- Em caso de dúvidas, procure os tutores\n",
    "- Divirta-se :)\n",
    "\n",
    "#### 1)  crie uma série do pandas a partir de uma lista com os dados abaixo:\n",
    "\n",
    "Em um estudo sobre alteração na tempreatura global, A NASA disponibiliza dados de diferenças de de temperatura média da superfície terrestre relativos às médias de temperatura entre 1951 e 1980. Os dados originais podem ser vistos no site da NASA/GISS, e estão dispostos a cada década na tabela abaixo.\n",
    "\n",
    "|ano|anomalia termica|\n",
    "|:-:|:----:|\n",
    "| 1900 | -0.08 |\n",
    "| 1920 | -0.27 |\n",
    "| 1940 | 0.12 |\n",
    "| 1960 | -0.03 |\n",
    "| 1980 | 0.26 |\n",
    "| 2000 | 0.40 |\n",
    "| 2020 | 1.02 |\n",
    "\n",
    "Crie uma séries do Pandas a partir de uma lista com esses dados."
   ]
  },
  {
   "cell_type": "code",
   "execution_count": 5,
   "metadata": {},
   "outputs": [
    {
     "name": "stdout",
     "output_type": "stream",
     "text": [
      "0   -0.08\n",
      "1   -0.27\n",
      "2    0.12\n",
      "3   -0.03\n",
      "4    0.26\n",
      "5    0.40\n",
      "6    1.02\n",
      "dtype: float64\n"
     ]
    }
   ],
   "source": [
    "import pandas as pd\n",
    "import numpy as np\n",
    "\n",
    "# Seu código aqui\n",
    "\n",
    "# Dados\n",
    "anos = [1900, 1920, 1940, 1960, 1980, 2000, 2020]\n",
    "anomalias_termicas = [-0.08, -0.27, 0.12, -0.03, 0.26, 0.40, 1.02]\n",
    "\n",
    "# Criar a série\n",
    "serie_temperatura = pd.Series(data=anomalias_termicas)\n",
    "\n",
    "# Exibir a série\n",
    "print(serie_temperatura)"
   ]
  },
  {
   "cell_type": "markdown",
   "metadata": {},
   "source": [
    "#### 2) Coloque os anos nos índices conforme a tabela."
   ]
  },
  {
   "cell_type": "code",
   "execution_count": 3,
   "metadata": {},
   "outputs": [
    {
     "name": "stdout",
     "output_type": "stream",
     "text": [
      "1900   -0.08\n",
      "1920   -0.27\n",
      "1940    0.12\n",
      "1960   -0.03\n",
      "1980    0.26\n",
      "2000    0.40\n",
      "2020    1.02\n",
      "dtype: float64\n"
     ]
    }
   ],
   "source": [
    "\n",
    "# seu código aqui\n",
    "# Dados\n",
    "anos = [1900, 1920, 1940, 1960, 1980, 2000, 2020]\n",
    "anomalias_termicas = [-0.08, -0.27, 0.12, -0.03, 0.26, 0.40, 1.02]\n",
    "\n",
    "# Criar a série com os anos como índices\n",
    "serie_temperatura = pd.Series(data=anomalias_termicas, index=anos)\n",
    "\n",
    "# Exibir a série\n",
    "print(serie_temperatura)"
   ]
  },
  {
   "cell_type": "markdown",
   "metadata": {},
   "source": [
    "#### 3) A partir do dicionário abaixo, crie uma séries do Pandas:"
   ]
  },
  {
   "cell_type": "code",
   "execution_count": 7,
   "metadata": {},
   "outputs": [
    {
     "name": "stdout",
     "output_type": "stream",
     "text": [
      "1900   -0.08\n",
      "1920   -0.27\n",
      "1940    0.12\n",
      "1960   -0.03\n",
      "1980    0.26\n",
      "2000    0.40\n",
      "2020    1.02\n",
      "dtype: float64\n"
     ]
    }
   ],
   "source": [
    "dic_temperaturas = {1900: -.08, 1920: -.27, 1940: .12, 1960: -.03, 1980: .26, 2000: .40, 2020: 1.02}\n",
    "\n",
    "# seu código aqui\n",
    "# Criar a série a partir do dicionário\n",
    "serie_temperatura = pd.Series(dic_temperaturas)\n",
    "\n",
    "# Exibir a série\n",
    "print(serie_temperatura)\n"
   ]
  },
  {
   "cell_type": "markdown",
   "metadata": {},
   "source": [
    "#### 4) Transforme o ndarray abaixo em um dataframe. \n",
    "O numpy é capaz de gerar arrays n-dimensionais com números pseudo-aleatórios de acordo com uma variedade de distribuições, como no exemplo abaixo. Transforme esse nd-array em um DataFrame."
   ]
  },
  {
   "cell_type": "code",
   "execution_count": 9,
   "metadata": {},
   "outputs": [
    {
     "name": "stdout",
     "output_type": "stream",
     "text": [
      "      Coluna_1    Coluna_2    Coluna_3\n",
      "0   105.865823  108.719548  105.380387\n",
      "1   110.096337  101.914334  113.869610\n",
      "2    85.124888  104.181939  105.465591\n",
      "3   103.523439   95.459483  103.911656\n",
      "4   111.611528  114.583234   90.985210\n",
      "5    96.121323   76.045662  114.371850\n",
      "6    92.295038   86.990166   94.936227\n",
      "7   101.916479  102.910297  108.102494\n",
      "8   104.777390   96.873095  112.776343\n",
      "9   101.411440   94.558487  104.575929\n",
      "10  103.702740   88.722538   81.936484\n",
      "11  110.526981  104.806214   80.255305\n",
      "12  111.232644  101.057387  101.096268\n",
      "13   94.338671  100.237381  111.724111\n",
      "14  116.884472   95.498134  100.004755\n",
      "15   97.398728   95.059670   93.314677\n",
      "16  100.106737   99.612887  118.843145\n",
      "17  116.917234  102.550859   97.621793\n",
      "18  111.483264  117.784429  105.617707\n",
      "19   95.556201   98.868935   91.210560\n"
     ]
    }
   ],
   "source": [
    "arr = np.random.normal(100, 10, (20,3))\n",
    "\n",
    "# seu código aqui\n",
    "\n",
    "# Converter o ndarray em DataFrame\n",
    "df = pd.DataFrame(arr, columns=['Coluna_1', 'Coluna_2', 'Coluna_3'])\n",
    "\n",
    "# Exibir o DataFrame\n",
    "print(df)"
   ]
  },
  {
   "cell_type": "markdown",
   "metadata": {},
   "source": [
    "#### 5) Nomeie os índices das linhas com inteiros de 1 a 20, e as colunas com os nomes \"x1\", \"x2\", e \"x3\" respectivamente."
   ]
  },
  {
   "cell_type": "code",
   "execution_count": 11,
   "metadata": {},
   "outputs": [
    {
     "name": "stdout",
     "output_type": "stream",
     "text": [
      "            x1          x2          x3\n",
      "1   105.865823  108.719548  105.380387\n",
      "2   110.096337  101.914334  113.869610\n",
      "3    85.124888  104.181939  105.465591\n",
      "4   103.523439   95.459483  103.911656\n",
      "5   111.611528  114.583234   90.985210\n",
      "6    96.121323   76.045662  114.371850\n",
      "7    92.295038   86.990166   94.936227\n",
      "8   101.916479  102.910297  108.102494\n",
      "9   104.777390   96.873095  112.776343\n",
      "10  101.411440   94.558487  104.575929\n",
      "11  103.702740   88.722538   81.936484\n",
      "12  110.526981  104.806214   80.255305\n",
      "13  111.232644  101.057387  101.096268\n",
      "14   94.338671  100.237381  111.724111\n",
      "15  116.884472   95.498134  100.004755\n",
      "16   97.398728   95.059670   93.314677\n",
      "17  100.106737   99.612887  118.843145\n",
      "18  116.917234  102.550859   97.621793\n",
      "19  111.483264  117.784429  105.617707\n",
      "20   95.556201   98.868935   91.210560\n"
     ]
    }
   ],
   "source": [
    "#seu código aqui\n",
    "# Converter o ndarray em DataFrame com os índices de 1 a 20 e nomear as colunas\n",
    "df = pd.DataFrame(arr, index=range(1, 21), columns=['x1', 'x2', 'x3'])\n",
    "\n",
    "# Exibir o DataFrame\n",
    "print(df)\n"
   ]
  },
  {
   "cell_type": "markdown",
   "metadata": {},
   "source": [
    "#### 6) No DataFrame do exercício 5, crie uma nova coluna como sendo a média das três colunas, e dê a ela o nome de \"media\" (não recomendo colocar acentos em nomes de variáveis)."
   ]
  },
  {
   "cell_type": "code",
   "execution_count": 13,
   "metadata": {},
   "outputs": [
    {
     "name": "stdout",
     "output_type": "stream",
     "text": [
      "            x1          x2          x3       media\n",
      "1   105.865823  108.719548  105.380387  106.655253\n",
      "2   110.096337  101.914334  113.869610  108.626760\n",
      "3    85.124888  104.181939  105.465591   98.257473\n",
      "4   103.523439   95.459483  103.911656  100.964859\n",
      "5   111.611528  114.583234   90.985210  105.726657\n",
      "6    96.121323   76.045662  114.371850   95.512945\n",
      "7    92.295038   86.990166   94.936227   91.407144\n",
      "8   101.916479  102.910297  108.102494  104.309757\n",
      "9   104.777390   96.873095  112.776343  104.808943\n",
      "10  101.411440   94.558487  104.575929  100.181952\n",
      "11  103.702740   88.722538   81.936484   91.453921\n",
      "12  110.526981  104.806214   80.255305   98.529500\n",
      "13  111.232644  101.057387  101.096268  104.462100\n",
      "14   94.338671  100.237381  111.724111  102.100054\n",
      "15  116.884472   95.498134  100.004755  104.129120\n",
      "16   97.398728   95.059670   93.314677   95.257692\n",
      "17  100.106737   99.612887  118.843145  106.187590\n",
      "18  116.917234  102.550859   97.621793  105.696629\n",
      "19  111.483264  117.784429  105.617707  111.628467\n",
      "20   95.556201   98.868935   91.210560   95.211899\n"
     ]
    }
   ],
   "source": [
    "# seu código aqui\n",
    "# Converter o ndarray em DataFrame com os índices de 1 a 20 e nomear as colunas\n",
    "df = pd.DataFrame(arr, index=range(1, 21), columns=['x1', 'x2', 'x3'])\n",
    "\n",
    "# Criar uma nova coluna 'media' como sendo a média das colunas 'x1', 'x2', e 'x3'\n",
    "df['media'] = df[['x1', 'x2', 'x3']].mean(axis=1)\n",
    "\n",
    "# Exibir o DataFrame\n",
    "print(df)"
   ]
  },
  {
   "cell_type": "markdown",
   "metadata": {},
   "source": [
    "#### 7) No DataFrame do exercício 6, crie uma nova coluna chamada \"log_med\", contendo o logaritmo natural da média calculada no exercício 6 <br>"
   ]
  },
  {
   "cell_type": "code",
   "execution_count": 15,
   "metadata": {},
   "outputs": [
    {
     "name": "stdout",
     "output_type": "stream",
     "text": [
      "            x1          x2          x3       media   log_med\n",
      "1    91.452342  104.611786  113.290814  103.118314  4.635877\n",
      "2    81.428487  107.437744   84.835183   91.233804  4.513425\n",
      "3   110.220040  110.097703  102.958127  107.758624  4.679894\n",
      "4   121.607119   91.055247   91.625666  101.429344  4.619362\n",
      "5    86.264182  101.678281  112.147915  100.030126  4.605471\n",
      "6    96.169060  113.766993  105.688864  105.208306  4.655942\n",
      "7    94.489847   95.754684  105.536799   98.593777  4.591008\n",
      "8    94.618457  113.009637  113.015485  106.881193  4.671718\n",
      "9   108.070722  109.768492  111.526452  109.788555  4.698556\n",
      "10   99.555988  100.591243  101.112665  100.419965  4.609361\n",
      "11  104.255791  111.182026  104.673147  106.703654  4.670055\n",
      "12  111.562451  104.939983   91.283796  102.595410  4.630793\n",
      "13   94.472448  105.284687  111.767689  103.841608  4.642867\n",
      "14   99.239934  109.834853  104.782735  104.619174  4.650327\n",
      "15  103.829360   90.779131   95.638230   96.748907  4.572119\n",
      "16   96.370807   92.887016   98.476150   95.911325  4.563424\n",
      "17   98.076808   89.579684   84.667468   90.774653  4.508380\n",
      "18  109.344993  109.724665   99.509213  106.192957  4.665258\n",
      "19   96.044423   94.741080  102.295970   97.693824  4.581838\n",
      "20  102.193824   95.195004   82.962679   93.450502  4.537432\n"
     ]
    }
   ],
   "source": [
    "# seu código aqui\n",
    "# Gerar o ndarray\n",
    "arr = np.random.normal(100, 10, (20, 3))\n",
    "\n",
    "# Converter o ndarray em DataFrame com os índices de 1 a 20 e nomear as colunas\n",
    "df = pd.DataFrame(arr, index=range(1, 21), columns=['x1', 'x2', 'x3'])\n",
    "\n",
    "# Criar a coluna 'media' como sendo a média das colunas 'x1', 'x2', e 'x3'\n",
    "df['media'] = df[['x1', 'x2', 'x3']].mean(axis=1)\n",
    "\n",
    "# Criar a coluna 'log_med' contendo o logaritmo natural da coluna 'media'\n",
    "df['log_med'] = np.log(df['media'])\n",
    "\n",
    "# Exibir o DataFrame\n",
    "print(df)"
   ]
  }
 ],
 "metadata": {
  "kernelspec": {
   "display_name": "Python 3 (ipykernel)",
   "language": "python",
   "name": "python3"
  },
  "language_info": {
   "codemirror_mode": {
    "name": "ipython",
    "version": 3
   },
   "file_extension": ".py",
   "mimetype": "text/x-python",
   "name": "python",
   "nbconvert_exporter": "python",
   "pygments_lexer": "ipython3",
   "version": "3.12.4"
  }
 },
 "nbformat": 4,
 "nbformat_minor": 4
}
