{
 "cells": [
  {
   "cell_type": "markdown",
   "metadata": {},
   "source": [
    "# Tarefa 03\n",
    "\n",
    "- Leia os enunciados com atenção\n",
    "- Saiba que pode haver mais de uma resposta correta\n",
    "- Insira novas células de código sempre que achar necessário\n",
    "- Em caso de dúvidas, procure os Tutores\n",
    "- Divirta-se :)"
   ]
  },
  {
   "cell_type": "code",
   "execution_count": null,
   "metadata": {},
   "outputs": [],
   "source": [
    "import pandas as pd\n",
    "import requests"
   ]
  },
  {
   "cell_type": "markdown",
   "metadata": {},
   "source": [
    "####  1) Lendo de APIs\n",
    "Vimos em aula como carregar dados públicos do governo através de um API (*Application Programming Interface*). No exemplo de aula, baixamos os dados de pedidos de verificação de limites (PVL) realizados por estados, e selecionamos apenas aqueles referentes ao estado de São Paulo.\n",
    "\n",
    "1. Repita os mesmos passos feitos em aula, mas selecione os PVLs realizados por municípios no estado do Rio de Janeiro.\n",
    "2. Quais são os três *status* das solicitações mais frequentes na base? Quais são suas frequências?\n",
    "3. Construa uma nova variável que contenha o ano do **status**. Observe que ```data_status``` vem como tipo *object* no **DataFrame**. Dica: você pode usar o método ```.str``` para transformar o tipo da variável em string, em seguida um método como [**slice()**](https://pandas.pydata.org/docs/reference/api/pandas.Series.str.slice.html) ou [**split()**](https://pandas.pydata.org/pandas-docs/stable/reference/api/pandas.Series.str.split.html).\n",
    "4. Indique a frequência de cada ano do campo construído no item (3)."
   ]
  },
  {
   "cell_type": "code",
   "execution_count": 17,
   "metadata": {},
   "outputs": [
    {
     "name": "stdout",
     "output_type": "stream",
     "text": [
      "Colunas disponíveis no DataFrame: Index(['id_pleito', 'tipo_interessado', 'interessado', 'cod_ibge', 'uf',\n",
      "       'num_pvl', 'status', 'num_processo', 'data_protocolo', 'tipo_operacao',\n",
      "       'finalidade', 'tipo_credor', 'credor', 'moeda', 'valor',\n",
      "       'pvl_assoc_divida', 'pvl_contradado_credor', 'data_status'],\n",
      "      dtype='object')\n",
      "Amostra dos dados:    id_pleito tipo_interessado interessado  cod_ibge  uf num_pvl  \\\n",
      "0      11431           Estado       Goiás        52  GO    None   \n",
      "1      13318        Município    Mesquita   3141702  MG    None   \n",
      "2      13337        Município    Pitangui   3151404  MG    None   \n",
      "3      10654           Estado   Tocantins        17  TO    None   \n",
      "4      10668           Estado    Amazonas        13  AM    None   \n",
      "\n",
      "                                              status          num_processo  \\\n",
      "0  Encaminhado à PGFN com manifestação técnica fa...  17944.001445/2012-00   \n",
      "1                                           Deferido  17944.002023/2013-24   \n",
      "2                                          Arquivado  17944.002035/2006-20   \n",
      "3  Encaminhado à PGFN com manifestação técnica fa...  17944.001252/2012-41   \n",
      "4                                           Deferido  17944.001255/2010-12   \n",
      "\n",
      "         data_protocolo                                      tipo_operacao  \\\n",
      "0  2012-12-20T02:00:00Z  Operação contratual interna (com garantia da U...   \n",
      "1  2014-03-28T03:00:00Z                        Operação contratual interna   \n",
      "2  2007-03-13T03:00:00Z                        Operação contratual interna   \n",
      "3  2012-12-11T02:00:00Z  Operação contratual interna (com garantia da U...   \n",
      "4  2011-07-04T03:00:00Z                        Operação contratual interna   \n",
      "\n",
      "                    finalidade                      tipo_credor  \\\n",
      "0                   Proinveste  Instituição Financeira Nacional   \n",
      "1               Infraestrutura  Instituição Financeira Nacional   \n",
      "2                      Provias  Instituição Financeira Nacional   \n",
      "3                   Proinveste  Instituição Financeira Nacional   \n",
      "4  PAC - Minha Casa Minha Vida  Instituição Financeira Nacional   \n",
      "\n",
      "                                         credor moeda         valor  \\\n",
      "0                       Caixa Econômica Federal  Real  3.669696e+08   \n",
      "1  Banco de Desenvolvimento de Minas Gerais S/A  Real  7.000000e+05   \n",
      "2                           Banco do Brasil S/A  Real  5.678430e+05   \n",
      "3                           Banco do Brasil S/A  Real  5.533677e+08   \n",
      "4                       Caixa Econômica Federal  Real  4.138080e+07   \n",
      "\n",
      "   pvl_assoc_divida  pvl_contradado_credor data_status  \n",
      "0                 1                      0  03/01/2013  \n",
      "1                 1                      0  29/04/2014  \n",
      "2                 0                      0  05/10/2007  \n",
      "3                 1                      0  03/01/2013  \n",
      "4                 1                      0  21/07/2011  \n",
      "     id_pleito tipo_interessado      interessado  cod_ibge  uf  \\\n",
      "171      13229        Município    Nova Friburgo   3303401  RJ   \n",
      "191      10482        Município  Duque de Caxias   3301702  RJ   \n",
      "247      11338        Município  Duque de Caxias   3301702  RJ   \n",
      "344      65407        Município         Itaboraí   3301900  RJ   \n",
      "356      68563        Município      Nova Iguaçu   3303500  RJ   \n",
      "\n",
      "                  num_pvl                                   status  \\\n",
      "171                  None                                 Deferido   \n",
      "191                  None                             Regularizado   \n",
      "247                  None                             Regularizado   \n",
      "344  PVL02.001946/2023-78                       Arquivado a pedido   \n",
      "356  PVL02.000551/2024-39  Assinado pelo interessado (retificação)   \n",
      "\n",
      "             num_processo        data_protocolo  \\\n",
      "171  17944.001968/2006-08  2007-01-18T02:00:00Z   \n",
      "191  17944.001210/2012-18  2020-04-13T03:00:00Z   \n",
      "247  17944.001415/2006-47  2007-02-28T03:00:00Z   \n",
      "344  17944.102785/2023-00  2023-06-30T18:15:09Z   \n",
      "356  17944.002171/2024-00  2024-05-28T20:07:11Z   \n",
      "\n",
      "                                         tipo_operacao  \\\n",
      "171                        Operação contratual interna   \n",
      "191                        Operação contratual interna   \n",
      "247                        Operação contratual interna   \n",
      "344                        Operação contratual interna   \n",
      "356  Operação contratual interna (com garantia da U...   \n",
      "\n",
      "                                     finalidade  \\\n",
      "171                                     Provias   \n",
      "191  Regularização de Dívida - Energia Elétrica   \n",
      "247  Regularização de Dívida - Energia Elétrica   \n",
      "344                              Infraestrutura   \n",
      "356                              Infraestrutura   \n",
      "\n",
      "                         tipo_credor                                credor  \\\n",
      "171  Instituição Financeira Nacional                   Banco do Brasil S/A   \n",
      "191              Empresa Não Estatal  Light - Serviços de Eletricidade S/A   \n",
      "247              Empresa Não Estatal  Light - Serviços de Eletricidade S/A   \n",
      "344  Instituição Financeira Nacional               Caixa Econômica Federal   \n",
      "356  Instituição Financeira Nacional               Caixa Econômica Federal   \n",
      "\n",
      "    moeda         valor  pvl_assoc_divida  pvl_contradado_credor data_status  \n",
      "171  Real  1.976972e+06                 0                      0  15/02/2007  \n",
      "191  Real  3.592231e+06                 0                      0  02/06/2020  \n",
      "247  Real  5.532310e+06                 0                      0  13/03/2007  \n",
      "344  Real  1.000000e+08                 0                      0  05/10/2023  \n",
      "356  Real  1.600000e+08                 0                      0  27/06/2024  \n"
     ]
    }
   ],
   "source": [
    "# 1) Seu código aqui\n",
    "\n",
    "# URL da API para carregar os dados de PVLs\n",
    "url = \"https://apidatalake.tesouro.gov.br/ords/sadipem/tt/pvl\"\n",
    "\n",
    "# Fazer a requisição para a API\n",
    "response = requests.get(url)\n",
    "\n",
    "# Verificar se a resposta foi bem sucedida\n",
    "if response.status_code == 200:\n",
    "    # Transformar os dados JSON em um DataFrame do pandas\n",
    "    data = response.json()\n",
    "    df = pd.DataFrame(data['items'])\n",
    "    \n",
    "    # Exibir as colunas disponíveis no DataFrame para verificação\n",
    "    print(\"Colunas disponíveis no DataFrame:\", df.columns)\n",
    "    \n",
    "    # Verificar as primeiras linhas do DataFrame\n",
    "    print(\"Amostra dos dados:\", df.head())\n",
    "\n",
    "# Filtrar os PVLs realizados por municípios no estado do Rio de Janeiro\n",
    "df_rj_municipios = df[(df['tipo_interessado'] == 'Município') & (df['uf'] == 'RJ')]\n",
    "\n",
    "# Exibir os primeiros registros filtrados\n",
    "print(df_rj_municipios.head())"
   ]
  },
  {
   "cell_type": "code",
   "execution_count": 9,
   "metadata": {},
   "outputs": [
    {
     "name": "stdout",
     "output_type": "stream",
     "text": [
      "Os três status mais frequentes e suas frequências são:\n",
      "status\n",
      "Deferido             26\n",
      "Arquivado            10\n",
      "Deferido (PVL-IF)     5\n",
      "Name: count, dtype: int64\n"
     ]
    }
   ],
   "source": [
    "# 2) Seu código aqui\n",
    "# Contar a frequência dos diferentes status\n",
    "status_frequencia = df_rj_municipios['status'].value_counts()\n",
    "\n",
    "# Exibir os três status mais frequentes\n",
    "top_3_status = status_frequencia.head(3)\n",
    "print(\"Os três status mais frequentes e suas frequências são:\")\n",
    "print(top_3_status)\n"
   ]
  },
  {
   "cell_type": "code",
   "execution_count": 15,
   "metadata": {},
   "outputs": [
    {
     "name": "stdout",
     "output_type": "stream",
     "text": [
      "    data_status ano_status\n",
      "171  15/02/2007       2007\n",
      "191  02/06/2020       2020\n",
      "247  13/03/2007       2007\n",
      "344  05/10/2023       2023\n",
      "356  27/06/2024       2024\n"
     ]
    }
   ],
   "source": [
    "# 3) Seu código aqui\n",
    "# Converter 'data_status' para string e extrair o ano\n",
    "df_rj_municipios.loc[:, 'ano_status'] = df_rj_municipios['data_status'].str.slice(start=-4)\n",
    "\n",
    "# Exibir as primeiras linhas para verificar a nova coluna\n",
    "print(df_rj_municipios[['data_status', 'ano_status']].head())"
   ]
  },
  {
   "cell_type": "code",
   "execution_count": 26,
   "metadata": {},
   "outputs": [
    {
     "name": "stdout",
     "output_type": "stream",
     "text": [
      "Frequência de cada ano no campo 'ano_status':\n",
      "ano_status\n",
      "2007    9\n",
      "2008    8\n",
      "2014    6\n",
      "2023    5\n",
      "2022    5\n",
      "2010    4\n",
      "2019    4\n",
      "2015    3\n",
      "2011    2\n",
      "2017    2\n",
      "2004    1\n",
      "2003    1\n",
      "2013    1\n",
      "2012    1\n",
      "2020    1\n",
      "2006    1\n",
      "2024    1\n",
      "2009    1\n",
      "Name: count, dtype: int64\n"
     ]
    }
   ],
   "source": [
    "# 4) Certifique-se de que 'ano_status' foi criada corretamente usando .loc\n",
    "df_rj_municipios.loc[:, 'ano_status'] = df_rj_municipios['data_status'].str.slice(start=-4)\n",
    "\n",
    "# Agora, conte a frequência de cada ano\n",
    "frequencia_ano_status = df_rj_municipios['ano_status'].value_counts()\n",
    "\n",
    "# Exibir as frequências\n",
    "print(\"Frequência de cada ano no campo 'ano_status':\")\n",
    "print(frequencia_ano_status)\n",
    "\n",
    "\n"
   ]
  },
  {
   "cell_type": "markdown",
   "metadata": {},
   "source": [
    "####  2) Melhorando a interação com o API\n",
    "Observe dois URLs de consultas diferentes, por exemplo o URL utilizado em aula, e o URL feito no exercício anterior. Compare-os e observe as diferenças.\n",
    "\n",
    "1. Faça uma função em Python que recebe como argumento o UF da consulta e o tipo de interessado (```'Estado'```ou ```Município```), e que devolve os dados da consulta no formato *DataFrame*.\n",
    "2. Quantas solicitações para o Estado podem ser consultadas para Minas Gerais com *status* em 'Arquivado por decurso de prazo' estão registradas?\n",
    "3. Qual é o município da Bahia com mais solicitações deferidas?\n",
    "4. Salve um arquivo .csv com os dados de solicitações da Bahia, com interessado = 'Estado'"
   ]
  },
  {
   "cell_type": "code",
   "execution_count": 28,
   "metadata": {},
   "outputs": [
    {
     "name": "stdout",
     "output_type": "stream",
     "text": [
      "Colunas disponíveis no DataFrame: Index(['id_pleito', 'tipo_interessado', 'interessado', 'cod_ibge', 'uf',\n",
      "       'num_pvl', 'status', 'num_processo', 'data_protocolo', 'tipo_operacao',\n",
      "       'finalidade', 'tipo_credor', 'credor', 'moeda', 'valor',\n",
      "       'pvl_assoc_divida', 'pvl_contradado_credor', 'data_status'],\n",
      "      dtype='object')\n",
      "Amostra dos dados:    id_pleito tipo_interessado interessado  cod_ibge  uf num_pvl  \\\n",
      "0      11431           Estado       Goiás        52  GO    None   \n",
      "1      13318        Município    Mesquita   3141702  MG    None   \n",
      "2      13337        Município    Pitangui   3151404  MG    None   \n",
      "3      10654           Estado   Tocantins        17  TO    None   \n",
      "4      10668           Estado    Amazonas        13  AM    None   \n",
      "\n",
      "                                              status          num_processo  \\\n",
      "0  Encaminhado à PGFN com manifestação técnica fa...  17944.001445/2012-00   \n",
      "1                                           Deferido  17944.002023/2013-24   \n",
      "2                                          Arquivado  17944.002035/2006-20   \n",
      "3  Encaminhado à PGFN com manifestação técnica fa...  17944.001252/2012-41   \n",
      "4                                           Deferido  17944.001255/2010-12   \n",
      "\n",
      "         data_protocolo                                      tipo_operacao  \\\n",
      "0  2012-12-20T02:00:00Z  Operação contratual interna (com garantia da U...   \n",
      "1  2014-03-28T03:00:00Z                        Operação contratual interna   \n",
      "2  2007-03-13T03:00:00Z                        Operação contratual interna   \n",
      "3  2012-12-11T02:00:00Z  Operação contratual interna (com garantia da U...   \n",
      "4  2011-07-04T03:00:00Z                        Operação contratual interna   \n",
      "\n",
      "                    finalidade                      tipo_credor  \\\n",
      "0                   Proinveste  Instituição Financeira Nacional   \n",
      "1               Infraestrutura  Instituição Financeira Nacional   \n",
      "2                      Provias  Instituição Financeira Nacional   \n",
      "3                   Proinveste  Instituição Financeira Nacional   \n",
      "4  PAC - Minha Casa Minha Vida  Instituição Financeira Nacional   \n",
      "\n",
      "                                         credor moeda         valor  \\\n",
      "0                       Caixa Econômica Federal  Real  3.669696e+08   \n",
      "1  Banco de Desenvolvimento de Minas Gerais S/A  Real  7.000000e+05   \n",
      "2                           Banco do Brasil S/A  Real  5.678430e+05   \n",
      "3                           Banco do Brasil S/A  Real  5.533677e+08   \n",
      "4                       Caixa Econômica Federal  Real  4.138080e+07   \n",
      "\n",
      "   pvl_assoc_divida  pvl_contradado_credor data_status  \n",
      "0                 1                      0  03/01/2013  \n",
      "1                 1                      0  29/04/2014  \n",
      "2                 0                      0  05/10/2007  \n",
      "3                 1                      0  03/01/2013  \n",
      "4                 1                      0  21/07/2011  \n",
      "As colunas 'ente' ou 'uf' não estão presentes nos dados.\n"
     ]
    }
   ],
   "source": [
    "import requests\n",
    "import pandas as pd\n",
    "\n",
    "# URL da API para carregar os dados de PVLs\n",
    "url = \"https://apidatalake.tesouro.gov.br/ords/sadipem/tt/pvl\"\n",
    "\n",
    "# Fazer a requisição para a API\n",
    "response = requests.get(url)\n",
    "\n",
    "# Verificar se a resposta foi bem sucedida\n",
    "if response.status_code == 200:\n",
    "    # Transformar os dados JSON em um DataFrame do pandas\n",
    "    data = response.json()\n",
    "    df = pd.DataFrame(data['items'])\n",
    "    \n",
    "    # Exibir as colunas disponíveis no DataFrame para verificação\n",
    "    print(\"Colunas disponíveis no DataFrame:\", df.columns)\n",
    "    \n",
    "    # Verificar as primeiras linhas do DataFrame\n",
    "    print(\"Amostra dos dados:\", df.head())\n",
    "    \n",
    "    # Verificar se as colunas 'ente' e 'uf' estão presentes antes de filtrar\n",
    "    if 'ente' in df.columns and 'uf' in df.columns:\n",
    "        # Filtrar os dados para selecionar apenas os PVLs de municípios no estado do RJ\n",
    "        df_rj = df[(df['ente'] == 'Município') & (df['uf'] == 'RJ')]\n",
    "        print(\"Filtragem realizada com sucesso\")\n",
    "    else:\n",
    "        print(\"As colunas 'ente' ou 'uf' não estão presentes nos dados.\")\n",
    "else:\n",
    "    print(f\"Erro na requisição: {response.status_code}\")\n"
   ]
  },
  {
   "cell_type": "code",
   "execution_count": 30,
   "metadata": {},
   "outputs": [],
   "source": [
    "# 1) Seu código aqui\n",
    "\n",
    "def consultar_api(uf, tipo_interessado):\n",
    "    # URL da API\n",
    "    url = \"https://apidatalake.tesouro.gov.br/ords/sadipem/tt/pvl\"\n",
    "    \n",
    "    # Fazer a requisição para a API\n",
    "    response = requests.get(url)\n",
    "    \n",
    "    # Verificar se a resposta foi bem sucedida\n",
    "    if response.status_code == 200:\n",
    "        # Transformar os dados JSON em um DataFrame do pandas\n",
    "        data = response.json()\n",
    "        df = pd.DataFrame(data['items'])\n",
    "        \n",
    "        # Filtrar os dados pelo tipo de interessado e UF\n",
    "        df_filtered = df[(df['tipo_interessado'] == tipo_interessado) & (df['uf'] == uf)]\n",
    "        return df_filtered\n",
    "    else:\n",
    "        print(f\"Erro na requisição: {response.status_code}\")\n",
    "        return None\n"
   ]
  },
  {
   "cell_type": "code",
   "execution_count": 32,
   "metadata": {},
   "outputs": [
    {
     "name": "stdout",
     "output_type": "stream",
     "text": [
      "Número de solicitações para o Estado de Minas Gerais com status 'Arquivado por decurso de prazo': 0\n"
     ]
    }
   ],
   "source": [
    "# 2) Seu código aqui\n",
    "# Usar a função para obter dados para Minas Gerais com o tipo 'Estado'\n",
    "df_mg_estados = consultar_api('MG', 'Estado')\n",
    "\n",
    "# Contar quantas solicitações estão arquivadas por decurso de prazo\n",
    "num_archived_requests = df_mg_estados[df_mg_estados['status'] == 'Arquivado por decurso de prazo'].shape[0]\n",
    "\n",
    "print(f\"Número de solicitações para o Estado de Minas Gerais com status 'Arquivado por decurso de prazo': {num_archived_requests}\")\n"
   ]
  },
  {
   "cell_type": "code",
   "execution_count": 34,
   "metadata": {},
   "outputs": [
    {
     "name": "stdout",
     "output_type": "stream",
     "text": [
      "O município da Bahia com mais solicitações deferidas é Luís Eduardo Magalhães com 3 solicitações.\n"
     ]
    }
   ],
   "source": [
    "# 3) Seu código aqui\n",
    "# Usar a função para obter dados para a Bahia com o tipo 'Município'\n",
    "df_bahia_municipios = consultar_api('BA', 'Município')\n",
    "\n",
    "# Contar as solicitações deferidas por município\n",
    "deferidos_counts = df_bahia_municipios[df_bahia_municipios['status'] == 'Deferido']['interessado'].value_counts()\n",
    "\n",
    "# Obter o município com mais solicitações deferidas\n",
    "municipio_mais_deferido = deferidos_counts.idxmax()\n",
    "quantidade_deferidos = deferidos_counts.max()\n",
    "\n",
    "print(f\"O município da Bahia com mais solicitações deferidas é {municipio_mais_deferido} com {quantidade_deferidos} solicitações.\")\n"
   ]
  },
  {
   "cell_type": "code",
   "execution_count": 38,
   "metadata": {},
   "outputs": [
    {
     "name": "stdout",
     "output_type": "stream",
     "text": [
      "Os dados foram salvos no arquivo 'solicitacoes_bahia_estado.csv'.\n"
     ]
    }
   ],
   "source": [
    "# 4) Filtrar os dados da Bahia com interessado 'Estado'\n",
    "df_bahia_estados = df_bahia_municipios[df_bahia_municipios['tipo_interessado'] == 'Estado']\n",
    "\n",
    "# Salvar em um arquivo .csv\n",
    "df_bahia_estados.to_csv('solicitacoes_bahia_estado.csv', index=False)\n",
    "\n",
    "print(\"Os dados foram salvos no arquivo 'solicitacoes_bahia_estado.csv'.\")\n"
   ]
  }
 ],
 "metadata": {
  "kernelspec": {
   "display_name": "Python 3 (ipykernel)",
   "language": "python",
   "name": "python3"
  },
  "language_info": {
   "codemirror_mode": {
    "name": "ipython",
    "version": 3
   },
   "file_extension": ".py",
   "mimetype": "text/x-python",
   "name": "python",
   "nbconvert_exporter": "python",
   "pygments_lexer": "ipython3",
   "version": "3.12.4"
  }
 },
 "nbformat": 4,
 "nbformat_minor": 4
}
